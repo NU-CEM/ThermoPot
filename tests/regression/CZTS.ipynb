{
 "cells": [
  {
   "cell_type": "markdown",
   "source": [
    "# Regression test with previously published work\n",
    "\n",
    "CZTS has been chosen for regression tests as this allows direct comparison between thermopot and the repository it has been extended from (CZTS-thermodynamic-model: https://github.com/WMD-group/CZTS-model\\). This repository was used to generate the results published in https://doi.org/10.1039/C4TA00892H.\n",
    "\n",
    "To perform the regression tests we first need to do some unit conversions."
   ],
   "metadata": {
    "collapsed": false,
    "pycharm": {
     "name": "#%% md\n"
    }
   }
  },
  {
   "cell_type": "markdown",
   "source": [],
   "metadata": {
    "collapsed": false,
    "pycharm": {
     "name": "#%% md\n"
    }
   }
  },
  {
   "cell_type": "code",
   "execution_count": 8,
   "outputs": [
    {
     "data": {
      "text/plain": "            T           F         S          Cv           U\n0       0.000   28.800946  0.000000    0.000000   28.800946\n1       9.950   28.800544  0.000016    0.686957   28.802344\n2      19.900   28.789421  0.000242   10.042531   28.845211\n3      29.851   28.729200  0.000856   26.515069   29.025869\n4      39.801   28.582873  0.001702   42.046820   29.368891\n..        ...         ...       ...         ...         ...\n197  1960.199 -819.647445  0.053268  199.087644  392.054275\n198  1970.149 -825.803234  0.053355  199.092263  394.035270\n199  1980.100 -831.969029  0.053442  199.096813  396.016312\n200  1990.050 -838.144779  0.053528  199.101294  397.997398\n201  2000.000 -844.330434  0.053613  199.105709  399.978528\n\n[202 rows x 5 columns]",
      "text/html": "<div>\n<style scoped>\n    .dataframe tbody tr th:only-of-type {\n        vertical-align: middle;\n    }\n\n    .dataframe tbody tr th {\n        vertical-align: top;\n    }\n\n    .dataframe thead th {\n        text-align: right;\n    }\n</style>\n<table border=\"1\" class=\"dataframe\">\n  <thead>\n    <tr style=\"text-align: right;\">\n      <th></th>\n      <th>T</th>\n      <th>F</th>\n      <th>S</th>\n      <th>Cv</th>\n      <th>U</th>\n    </tr>\n  </thead>\n  <tbody>\n    <tr>\n      <th>0</th>\n      <td>0.000</td>\n      <td>28.800946</td>\n      <td>0.000000</td>\n      <td>0.000000</td>\n      <td>28.800946</td>\n    </tr>\n    <tr>\n      <th>1</th>\n      <td>9.950</td>\n      <td>28.800544</td>\n      <td>0.000016</td>\n      <td>0.686957</td>\n      <td>28.802344</td>\n    </tr>\n    <tr>\n      <th>2</th>\n      <td>19.900</td>\n      <td>28.789421</td>\n      <td>0.000242</td>\n      <td>10.042531</td>\n      <td>28.845211</td>\n    </tr>\n    <tr>\n      <th>3</th>\n      <td>29.851</td>\n      <td>28.729200</td>\n      <td>0.000856</td>\n      <td>26.515069</td>\n      <td>29.025869</td>\n    </tr>\n    <tr>\n      <th>4</th>\n      <td>39.801</td>\n      <td>28.582873</td>\n      <td>0.001702</td>\n      <td>42.046820</td>\n      <td>29.368891</td>\n    </tr>\n    <tr>\n      <th>...</th>\n      <td>...</td>\n      <td>...</td>\n      <td>...</td>\n      <td>...</td>\n      <td>...</td>\n    </tr>\n    <tr>\n      <th>197</th>\n      <td>1960.199</td>\n      <td>-819.647445</td>\n      <td>0.053268</td>\n      <td>199.087644</td>\n      <td>392.054275</td>\n    </tr>\n    <tr>\n      <th>198</th>\n      <td>1970.149</td>\n      <td>-825.803234</td>\n      <td>0.053355</td>\n      <td>199.092263</td>\n      <td>394.035270</td>\n    </tr>\n    <tr>\n      <th>199</th>\n      <td>1980.100</td>\n      <td>-831.969029</td>\n      <td>0.053442</td>\n      <td>199.096813</td>\n      <td>396.016312</td>\n    </tr>\n    <tr>\n      <th>200</th>\n      <td>1990.050</td>\n      <td>-838.144779</td>\n      <td>0.053528</td>\n      <td>199.101294</td>\n      <td>397.997398</td>\n    </tr>\n    <tr>\n      <th>201</th>\n      <td>2000.000</td>\n      <td>-844.330434</td>\n      <td>0.053613</td>\n      <td>199.105709</td>\n      <td>399.978528</td>\n    </tr>\n  </tbody>\n</table>\n<p>202 rows × 5 columns</p>\n</div>"
     },
     "execution_count": 8,
     "metadata": {},
     "output_type": "execute_result"
    }
   ],
   "source": [
    "from scripts.conversions import convert_phonopy_filetypes\n",
    "\n",
    "convert_phonopy_filetypes(\"./data/Cu.dat\",\"./data/Cu_out.dat\")\n",
    "convert_phonopy_filetypes(\"./data/Sn.dat\",\"./data/Sn_out.dat\")\n",
    "convert_phonopy_filetypes(\"./data/S.dat\",\"./data/S_out.dat\")\n",
    "convert_phonopy_filetypes(\"./data/Zn.dat\",\"./data/Zn_out.dat\")\n",
    "convert_phonopy_filetypes(\"./data/CZTS.dat\",\"./data/CZTS_out.dat\")"
   ],
   "metadata": {
    "collapsed": false,
    "pycharm": {
     "name": "#%%\n"
    }
   }
  },
  {
   "cell_type": "code",
   "execution_count": 1,
   "outputs": [],
   "source": [
    "from thermopot import calculations, materials, reactions\n",
    "import numpy as np"
   ],
   "metadata": {
    "collapsed": false,
    "pycharm": {
     "name": "#%%\n"
    }
   }
  },
  {
   "cell_type": "markdown",
   "source": [
    "## 2Cu+Zn+Sn+4S <-> Cu2ZnSnS4\n",
    "\n",
    "The published value is -3.83 eV per formula unit (-369.1 kJ per mole) at 298.15K and 1 bar."
   ],
   "metadata": {
    "collapsed": false,
    "pycharm": {
     "name": "#%% md\n"
    }
   }
  },
  {
   "cell_type": "code",
   "execution_count": 2,
   "outputs": [],
   "source": [
    "CZTS_calc = calculations.Calculation(energy=-0.353240291658938E+06,xc=\"pbesol\",NAtoms=8,volume=155.433224529)\n",
    "Cu_calc = calculations.Calculation(energy=-180838.168712673,xc=\"pbesol\",NAtoms=4,volume=45.2576997892)\n",
    "Zn_calc = calculations.Calculation(energy=-0.981596036898606e05,xc=\"pbesol\",NAtoms=2,volume=28.2580218348)\n",
    "Sn_calc = calculations.Calculation(energy=-0.340581412216286E+06,xc=\"pbesol\",NAtoms=2,volume=53.538071915)\n",
    "S_calc = calculations.Calculation(energy=-0.347575504588933e06,xc=\"pbesol\",NAtoms=32,volume=832.91786077871541)"
   ],
   "metadata": {
    "collapsed": false,
    "pycharm": {
     "name": "#%%\n"
    }
   }
  },
  {
   "cell_type": "code",
   "execution_count": 3,
   "outputs": [],
   "source": [
    "CZTS = materials.Solid(\"CZTS\",{\"Cu\":2,\"Zn\": 1,\"Sn\":1,\"S\":4},\"../tests/regression/data/CZTS_out.dat\",calculation=CZTS_calc)\n",
    "Cu = materials.Solid(\"Cu\",{\"Cu\":1},\"../tests/regression/data/Cu_out.dat\",calculation=Cu_calc)\n",
    "Zn = materials.Solid(\"Zn\",{\"Zn\":1},\"../tests/regression/data/Zn_out.dat\",calculation=Zn_calc)\n",
    "Sn = materials.Solid(\"Sn\",{\"Sn\":1},\"../tests/regression/data/Sn_out.dat\",calculation=Sn_calc)\n",
    "S = materials.Solid(\"S\",{\"S\":1},\"../tests/regression/data/S_out.dat\",calculation=S_calc)\n"
   ],
   "metadata": {
    "collapsed": false,
    "pycharm": {
     "name": "#%%\n"
    }
   }
  },
  {
   "cell_type": "code",
   "execution_count": 4,
   "outputs": [
    {
     "data": {
      "text/plain": "-3.760958451020997"
     },
     "execution_count": 4,
     "metadata": {},
     "output_type": "execute_result"
    }
   ],
   "source": [
    "bulk_reaction = reactions.Reaction({Cu:2,Zn:1,Sn:1,S:4},{CZTS:1})\n",
    "bulk_reaction.DU().potential"
   ],
   "metadata": {
    "collapsed": false,
    "pycharm": {
     "name": "#%%\n"
    }
   }
  },
  {
   "cell_type": "code",
   "execution_count": 5,
   "outputs": [
    {
     "data": {
      "text/plain": "-3.760958451020997"
     },
     "execution_count": 5,
     "metadata": {},
     "output_type": "execute_result"
    }
   ],
   "source": [
    "bulk_reaction.DH().potential"
   ],
   "metadata": {
    "collapsed": false,
    "pycharm": {
     "name": "#%%\n"
    }
   }
  },
  {
   "cell_type": "code",
   "execution_count": 8,
   "outputs": [
    {
     "name": "stdout",
     "output_type": "stream",
     "text": [
      "3.31673343432711e-05\n",
      "2.161230641091878e-05\n",
      "2.3568422118631406e-05\n",
      "0.00029342668360822586\n",
      "6.7003410638523e-05\n"
     ]
    },
    {
     "data": {
      "text/plain": "-3.760949602117762"
     },
     "execution_count": 8,
     "metadata": {},
     "output_type": "execute_result"
    }
   ],
   "source": [
    "bulk_reaction.Dmu().potential"
   ],
   "metadata": {
    "collapsed": false,
    "pycharm": {
     "name": "#%%\n"
    }
   }
  },
  {
   "cell_type": "code",
   "execution_count": null,
   "outputs": [],
   "source": [
    "T = np.linspace(100,1500,5) # K\n",
    "P = np.array( np.logspace(1,7,5),ndmin=2).transpose() # Pa\n",
    "\n",
    "bulk_reaction = reactions.Reaction({Cu:2,Zn:1,Sn:1,S:4},{CZTS:1},temperature=T,pressure=P)"
   ],
   "metadata": {
    "collapsed": false,
    "pycharm": {
     "name": "#%%\n"
    }
   }
  },
  {
   "cell_type": "code",
   "execution_count": null,
   "outputs": [],
   "source": [
    "GFE = bulk_reaction.Dmu(units=\"kJ\")\n",
    "GFE.plot_TvsP(scale_range=[-370,-330])"
   ],
   "metadata": {
    "collapsed": false,
    "pycharm": {
     "name": "#%%\n"
    }
   }
  },
  {
   "cell_type": "markdown",
   "source": [
    "## 2Cu+Zn+Sn+2S2 <-> Cu2ZnSnS4\n"
   ],
   "metadata": {
    "collapsed": false,
    "pycharm": {
     "name": "#%% md\n"
    }
   }
  },
  {
   "cell_type": "markdown",
   "source": [],
   "metadata": {
    "collapsed": false,
    "pycharm": {
     "name": "#%% md\n"
    }
   }
  },
  {
   "cell_type": "code",
   "execution_count": null,
   "outputs": [],
   "source": [
    "S2 = materials.IdealGas(\"S2\",{'S':2},thermo_file=\"../tests/regression/data/S2.dat\",energies={\"pbesol\":-0.217220682510473e05},zpe_pbesol=0.04421415)\n",
    "S2_reaction = reactions.Reaction({Cu:2,Zn:1,Sn:1,S2:2},{CZTS:1},temperature=T,pressure=P)"
   ],
   "metadata": {
    "collapsed": false,
    "pycharm": {
     "name": "#%%\n"
    }
   }
  },
  {
   "cell_type": "code",
   "execution_count": null,
   "outputs": [],
   "source": [
    "GFE = S2_reaction.Dmu(units=\"kJ\")"
   ],
   "metadata": {
    "collapsed": false,
    "pycharm": {
     "name": "#%%\n"
    }
   }
  },
  {
   "cell_type": "code",
   "execution_count": null,
   "outputs": [],
   "source": [],
   "metadata": {
    "collapsed": false,
    "pycharm": {
     "name": "#%%\n"
    }
   }
  }
 ],
 "metadata": {
  "kernelspec": {
   "display_name": "Python 3",
   "language": "python",
   "name": "python3"
  },
  "language_info": {
   "codemirror_mode": {
    "name": "ipython",
    "version": 2
   },
   "file_extension": ".py",
   "mimetype": "text/x-python",
   "name": "python",
   "nbconvert_exporter": "python",
   "pygments_lexer": "ipython2",
   "version": "2.7.6"
  }
 },
 "nbformat": 4,
 "nbformat_minor": 0
}