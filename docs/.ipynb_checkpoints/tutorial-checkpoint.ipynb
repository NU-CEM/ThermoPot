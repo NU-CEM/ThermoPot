{
 "cells": [
  {
   "cell_type": "markdown",
   "metadata": {
    "pycharm": {
     "name": "#%% md\n"
    }
   },
   "source": [
    "# Tutorial"
   ]
  },
  {
   "cell_type": "markdown",
   "metadata": {
    "pycharm": {
     "name": "#%% md\n"
    }
   },
   "source": [
    "## Introduction"
   ]
  },
  {
   "cell_type": "markdown",
   "metadata": {
    "pycharm": {
     "name": "#%% md\n"
    }
   },
   "source": [
    "In this tutorial we will explore the functionality of ThermoPot using the\n",
    "chalcogenide perovskite BaZrS$_3$ as a motivating example. We will consider\n",
    "three reactions:\n",
    "\n",
    "(1) BaZrS$_3$ -> BaS + ZrS$_2$\n",
    "\n",
    "(2) BaZrS$_3$ -> Ba + Zr + 3S\n",
    "\n",
    "(3) BaZrS$_3$ -> BaS$_2$ + ZrS\n",
    "\n",
    "We will use ThermoPot to calculate the change in Gibbs free energy for each\n",
    "of these reactions, at a range of temperature and pressures. We\n",
    "will also identify at which temperatures and pressures (if any) the\n",
    "perovskite decomposes into it's competing binary (BaS, BaS2, ZrS, ZrS$_2$) or\n",
    "elemental (Ba, Zr, S) phases.\n",
    "\n",
    "To do these calculations we need the total ground-state energy of each\n",
    "material, calculated using DFT or else-wise. For predictions and finite\n",
    "temperature and pressure we need, in addition, vibrational data for each\n",
    "material. For solid materials this can also be calculated from\n",
    "first-principles using harmonic lattice dynamical theory. For gaseous\n",
    "compounds (not considered in this tutorial), where there is a strong dependence\n",
    " on pressures close to standard pressure, experimental data can be used."
   ]
  },
  {
   "cell_type": "markdown",
   "metadata": {
    "pycharm": {
     "name": "#%% md\n"
    }
   },
   "source": [
    "## Code structure\n",
    "\n",
    "There are three core classes in ThermoPot:\n",
    "\n",
    "1) Calculation to store data for a\n",
    "single calculation. For example, an energy calculated using the HSE06 functional)\n",
    "\n",
    "2) Material to store data and make predictions for a single material. For\n",
    "example BaZrS$_3$, with energies calculated at\n",
    "various levels of theory.\n",
    "\n",
    "3) Reaction to store data  and make predictions for a single chemical\n",
    "reaction. For example BaZrS$_3$ -> BaS$_2$ + ZrS\n",
    "\n",
    "The structure is hierachial; one more `Calculation` instances are used to\n",
    "build a `Material` instance, and three or more `Material` objects are used to\n",
    "calculate a `Reaction` instance. In addition to this there are is the\n",
    "`Potential` class to store and plot a single  thermodynamic potential, and\n",
    "the `Potentials` class to store and plot multiple thermodynamic potentials.\n",
    "\n"
   ]
  },
  {
   "cell_type": "markdown",
   "metadata": {
    "pycharm": {
     "name": "#%% md\n"
    }
   },
   "source": [
    "## Step 1 - import relevant libraries\n",
    "\n"
   ]
  },
  {
   "cell_type": "code",
   "execution_count": 1,
   "metadata": {
    "pycharm": {
     "name": "#%%\n"
    }
   },
   "outputs": [],
   "source": [
    "from thermopot import calculations, materials, reactions, potentials"
   ]
  },
  {
   "cell_type": "markdown",
   "metadata": {
    "pycharm": {
     "name": "#%% md\n"
    }
   },
   "source": [
    "## Step 2 - create `calculations`\n",
    "\n",
    "There are two ways to create a `Calculations` object:\n",
    "1) Manually input the attributes (calculated energy, xc-functional type,\n",
    "   volume, number of atoms). \n",
    "   \n",
    "2) Parse a FHI-aims output file to read this data\n",
    "   automatically. Provide the path for an `aims.out` file. \n",
    "\n",
    "We will provide an example for each which uses the `vars`\n",
    "function to show that the class attributes are equal."
   ]
  },
  {
   "cell_type": "code",
   "execution_count": 2,
   "metadata": {},
   "outputs": [
    {
     "data": {
      "text/plain": [
       "{'volume': 63.2552,\n",
       " 'filepath': None,\n",
       " 'energy': -235926.586148547,\n",
       " 'xc': 'pbesol',\n",
       " 'NAtoms': 2}"
      ]
     },
     "execution_count": 2,
     "metadata": {},
     "output_type": "execute_result"
    }
   ],
   "source": [
    "BaS_calc = calculations.Calculation(volume=63.2552,energy=-235926.586148547,\n",
    "                            xc='pbesol',\n",
    "                        NAtoms=2)\n",
    "vars(BaS_calc)"
   ]
  },
  {
   "cell_type": "code",
   "execution_count": 7,
   "metadata": {
    "pycharm": {
     "name": "#%%\n"
    }
   },
   "outputs": [
    {
     "data": {
      "text/plain": [
       "{'volume': 63.2552,\n",
       " 'filepath': '../BaZrS3/raw_aims_files/binary/BaS_Fm-3m/pbesol/aims.out',\n",
       " 'energy': -235926.58614863,\n",
       " 'xc': 'pbesol',\n",
       " 'NAtoms': 2}"
      ]
     },
     "execution_count": 7,
     "metadata": {},
     "output_type": "execute_result"
    }
   ],
   "source": [
    "BaS_calc = calculations.AimsCalculation(\"../BaZrS3/raw_aims_files/binary/BaS_Fm-3m/pbesol/aims.out\")\n",
    "vars(BaS_calc)"
   ]
  },
  {
   "cell_type": "markdown",
   "metadata": {},
   "source": [
    "For in-notebook help with functions, docstrings can be accessed with a `?` to trigger the docstring for the class. Alternatively, a Python `help()` function can be used. Feel free to use this for any object to fimilarise yourself with the internal workings of the code.  "
   ]
  },
  {
   "cell_type": "code",
   "execution_count": 29,
   "metadata": {},
   "outputs": [],
   "source": [
    "calculations.AimsCalculation?\n",
    "#help(calculations.AimsCalculation)"
   ]
  },
  {
   "cell_type": "markdown",
   "metadata": {
    "pycharm": {
     "name": "#%% md\n"
    }
   },
   "source": [
    "We will now read in the calculations for the other compounds."
   ]
  },
  {
   "cell_type": "code",
   "execution_count": 30,
   "metadata": {
    "pycharm": {
     "name": "#%%\n"
    }
   },
   "outputs": [],
   "source": [
    "BaZrS3_calc = calculations.AimsCalculation(\"../BaZrS3/raw_aims_files/ternary/BaZrS3_Pnma/pbesol/aims.out\")\n",
    "ZrS2_calc =  calculations.AimsCalculation(\"../BaZrS3/raw_aims_files/binary/ZrS2_P-3m1/pbesol/aims.out\")"
   ]
  },
  {
   "cell_type": "markdown",
   "metadata": {
    "pycharm": {
     "name": "#%% md\n"
    }
   },
   "source": [
    "## Step 3 - create `materials`"
   ]
  },
  {
   "cell_type": "markdown",
   "metadata": {},
   "source": [
    "For in-notebook help with functions, docstrings can be accessed with a `?` to trigger the docstring for the class. Alternatively, a Python `help()` function can be used. "
   ]
  },
  {
   "cell_type": "markdown",
   "metadata": {},
   "source": [
    "The attributes (name, stoichiometry, filepath of ) of a `materials.Solid` has to be stored in a variable. "
   ]
  },
  {
   "cell_type": "code",
   "execution_count": 31,
   "metadata": {
    "pycharm": {
     "name": "#%%\n"
    }
   },
   "outputs": [],
   "source": [
    "BaZrS3 = materials.Solid('BaZrS3',{\"Ba\":1,\"Zr\":1,\"S\":3},\"../BaZrS3/phonopy_output/BaZrS3_Pnma.dat\",BaZrS3_calc)\n",
    "\n",
    "BaS = materials.Solid('BaS',{\"Ba\":1,\"S\":1},\"../BaZrS3/phonopy_output/BaS_Fm-3m.dat\",BaS_calc)\n",
    "\n",
    "ZrS2 = materials.Solid('ZrS2',{\"Zr\":1,\"S\":2},\"../BaZrS3/phonopy_output/ZrS2_P-3m1.dat\",ZrS2_calc)"
   ]
  },
  {
   "cell_type": "code",
   "execution_count": 32,
   "metadata": {
    "pycharm": {
     "name": "#%%\n"
    }
   },
   "outputs": [
    {
     "data": {
      "text/plain": [
       "{'name': 'BaZrS3',\n",
       " 'stoichiometry': {'Ba': 1, 'Zr': 1, 'S': 3},\n",
       " 'energies': {'pbesol': -1425527.242293353},\n",
       " 'N': 5,\n",
       " 'volume': 484.624,\n",
       " 'NAtoms': 20,\n",
       " 'fu_cell': 4.0,\n",
       " 'phonons': '/Users/prakriti/development/ThermoPot/thermopot/../BaZrS3/phonopy_output/BaZrS3_Pnma.dat'}"
      ]
     },
     "execution_count": 32,
     "metadata": {},
     "output_type": "execute_result"
    }
   ],
   "source": [
    "vars(BaZrS3)"
   ]
  },
  {
   "cell_type": "markdown",
   "metadata": {
    "pycharm": {
     "name": "#%% md\n"
    }
   },
   "source": [
    "# Step 4 - define a `reaction`"
   ]
  },
  {
   "cell_type": "markdown",
   "metadata": {},
   "source": [
    "We model the combination or decomposition of `materials` with the `reaction` class where the formula unit of reactants and products are defined. "
   ]
  },
  {
   "cell_type": "code",
   "execution_count": 33,
   "metadata": {
    "pycharm": {
     "name": "#%%\n"
    }
   },
   "outputs": [],
   "source": [
    "reaction_one = reactions.Reaction({BaZrS3:1}, {BaS:1,ZrS2:1})"
   ]
  },
  {
   "cell_type": "code",
   "execution_count": 34,
   "metadata": {
    "pycharm": {
     "name": "#%%\n"
    }
   },
   "outputs": [
    {
     "data": {
      "text/plain": [
       "{'reactants': {<thermopot.materials.Solid at 0x129a33340>: 1},\n",
       " 'products': {<thermopot.materials.Solid at 0x129a32350>: 1,\n",
       "  <thermopot.materials.Solid at 0x129a32530>: 1},\n",
       " 'T': 298.15,\n",
       " 'P': 100000.0,\n",
       " 'fu_scaling': 1}"
      ]
     },
     "execution_count": 34,
     "metadata": {},
     "output_type": "execute_result"
    }
   ],
   "source": [
    "vars(reaction_one)"
   ]
  },
  {
   "cell_type": "code",
   "execution_count": 35,
   "metadata": {
    "pycharm": {
     "name": "#%%\n"
    }
   },
   "outputs": [
    {
     "data": {
      "text/plain": [
       "<thermopot.potential.Potential at 0x129b80520>"
      ]
     },
     "execution_count": 35,
     "metadata": {},
     "output_type": "execute_result"
    }
   ],
   "source": [
    "import numpy as np\n",
    "\n",
    "T = np.linspace(100, 1000, 100)\n",
    "P = np.array(np.logspace(1, 7, 100), ndmin=2).transpose()\n",
    "\n",
    "reaction_one.Dmu(T,P)"
   ]
  },
  {
   "cell_type": "code",
   "execution_count": 36,
   "metadata": {
    "pycharm": {
     "name": "#%%\n"
    }
   },
   "outputs": [],
   "source": [
    "GFE_reaction_one = reactions.Reaction"
   ]
  },
  {
   "cell_type": "code",
   "execution_count": 37,
   "metadata": {
    "pycharm": {
     "name": "#%%\n"
    }
   },
   "outputs": [
    {
     "ename": "AttributeError",
     "evalue": "'numpy.ndarray' object has no attribute 'P'",
     "output_type": "error",
     "traceback": [
      "\u001b[0;31m---------------------------------------------------------------------------\u001b[0m",
      "\u001b[0;31mAttributeError\u001b[0m                            Traceback (most recent call last)",
      "Cell \u001b[0;32mIn [37], line 6\u001b[0m\n\u001b[1;32m      3\u001b[0m T \u001b[38;5;241m=\u001b[39m np\u001b[38;5;241m.\u001b[39mlinspace(\u001b[38;5;241m100\u001b[39m, \u001b[38;5;241m1000\u001b[39m, \u001b[38;5;241m100\u001b[39m)\n\u001b[1;32m      4\u001b[0m P \u001b[38;5;241m=\u001b[39m np\u001b[38;5;241m.\u001b[39marray(np\u001b[38;5;241m.\u001b[39mlogspace(\u001b[38;5;241m1\u001b[39m, \u001b[38;5;241m7\u001b[39m, \u001b[38;5;241m100\u001b[39m), ndmin\u001b[38;5;241m=\u001b[39m\u001b[38;5;241m2\u001b[39m)\u001b[38;5;241m.\u001b[39mtranspose()\n\u001b[0;32m----> 6\u001b[0m GFE \u001b[38;5;241m=\u001b[39m \u001b[43mGFE_reaction_one\u001b[49m\u001b[38;5;241;43m.\u001b[39;49m\u001b[43mDmu\u001b[49m\u001b[43m(\u001b[49m\u001b[43mT\u001b[49m\u001b[43m,\u001b[49m\u001b[43mP\u001b[49m\u001b[43m)\u001b[49m \u001b[38;5;241m/\u001b[39m \u001b[38;5;241m1000\u001b[39m\n",
      "File \u001b[0;32m~/development/ThermoPot/thermopot/reactions.py:79\u001b[0m, in \u001b[0;36mReaction.Dmu\u001b[0;34m(self, T, P, xc, units)\u001b[0m\n\u001b[1;32m     76\u001b[0m \u001b[38;5;28;01mdef\u001b[39;00m \u001b[38;5;21mDmu\u001b[39m(\u001b[38;5;28mself\u001b[39m, T\u001b[38;5;241m=\u001b[39m\u001b[38;5;28;01mNone\u001b[39;00m, P\u001b[38;5;241m=\u001b[39m\u001b[38;5;28;01mNone\u001b[39;00m, xc\u001b[38;5;241m=\u001b[39m\u001b[38;5;124m\"\u001b[39m\u001b[38;5;124mpbesol\u001b[39m\u001b[38;5;124m\"\u001b[39m, units\u001b[38;5;241m=\u001b[39m\u001b[38;5;124m\"\u001b[39m\u001b[38;5;124meV\u001b[39m\u001b[38;5;124m\"\u001b[39m):\n\u001b[1;32m     78\u001b[0m     T \u001b[38;5;241m=\u001b[39m \u001b[38;5;28mself\u001b[39m\u001b[38;5;241m.\u001b[39mT \u001b[38;5;28;01mif\u001b[39;00m T \u001b[38;5;129;01mis\u001b[39;00m \u001b[38;5;28;01mNone\u001b[39;00m \u001b[38;5;28;01melse\u001b[39;00m T\n\u001b[0;32m---> 79\u001b[0m     P \u001b[38;5;241m=\u001b[39m \u001b[38;5;28;43mself\u001b[39;49m\u001b[38;5;241;43m.\u001b[39;49m\u001b[43mP\u001b[49m \u001b[38;5;28;01mif\u001b[39;00m P \u001b[38;5;129;01mis\u001b[39;00m \u001b[38;5;28;01mNone\u001b[39;00m \u001b[38;5;28;01melse\u001b[39;00m P\n\u001b[1;32m     81\u001b[0m     reactants_energy, products_energy \u001b[38;5;241m=\u001b[39m \u001b[38;5;241m0\u001b[39m, \u001b[38;5;241m0\u001b[39m\n\u001b[1;32m     82\u001b[0m     \u001b[38;5;28;01mfor\u001b[39;00m material, fu \u001b[38;5;129;01min\u001b[39;00m \u001b[38;5;28mself\u001b[39m\u001b[38;5;241m.\u001b[39mreactants\u001b[38;5;241m.\u001b[39mitems():\n",
      "\u001b[0;31mAttributeError\u001b[0m: 'numpy.ndarray' object has no attribute 'P'"
     ]
    }
   ],
   "source": [
    "import numpy as np\n",
    "\n",
    "T = np.linspace(100, 1000, 100)\n",
    "P = np.array(np.logspace(1, 7, 100), ndmin=2).transpose()\n",
    "\n",
    "GFE = GFE_reaction_one.Dmu(T,P) / 1000"
   ]
  },
  {
   "cell_type": "code",
   "execution_count": 38,
   "metadata": {
    "pycharm": {
     "name": "#%%\n"
    }
   },
   "outputs": [
    {
     "ename": "NameError",
     "evalue": "name 'plots' is not defined",
     "output_type": "error",
     "traceback": [
      "\u001b[0;31m---------------------------------------------------------------------------\u001b[0m",
      "\u001b[0;31mNameError\u001b[0m                                 Traceback (most recent call last)",
      "Cell \u001b[0;32mIn [38], line 1\u001b[0m\n\u001b[0;32m----> 1\u001b[0m \u001b[43mplots\u001b[49m\u001b[38;5;241m.\u001b[39mplot_TvsP(T,P,GFE)\n",
      "\u001b[0;31mNameError\u001b[0m: name 'plots' is not defined"
     ]
    }
   ],
   "source": [
    "plots.plot_TvsP(T,P,GFE)"
   ]
  },
  {
   "cell_type": "code",
   "execution_count": 39,
   "metadata": {
    "pycharm": {
     "name": "#%%\n"
    }
   },
   "outputs": [],
   "source": [
    "import numpy as np\n",
    "pot_1 = np.array([[3,2,1],[4,1,1],[2,1,1]])\n",
    "pot_2 = np.array([[0,0,2],[0,4,5],[0,4,5]])"
   ]
  },
  {
   "cell_type": "code",
   "execution_count": 40,
   "metadata": {
    "pycharm": {
     "name": "#%%\n"
    }
   },
   "outputs": [
    {
     "ename": "NameError",
     "evalue": "name 'plots' is not defined",
     "output_type": "error",
     "traceback": [
      "\u001b[0;31m---------------------------------------------------------------------------\u001b[0m",
      "\u001b[0;31mNameError\u001b[0m                                 Traceback (most recent call last)",
      "Cell \u001b[0;32mIn [40], line 1\u001b[0m\n\u001b[0;32m----> 1\u001b[0m \u001b[43mplots\u001b[49m\u001b[38;5;241m.\u001b[39mplot_TvsP(np\u001b[38;5;241m.\u001b[39marray([\u001b[38;5;241m0\u001b[39m,\u001b[38;5;241m10\u001b[39m,\u001b[38;5;241m20\u001b[39m]),np\u001b[38;5;241m.\u001b[39marray([\u001b[38;5;241m0\u001b[39m,\u001b[38;5;241m10\u001b[39m,\u001b[38;5;241m20\u001b[39m])\u001b[38;5;241m.\u001b[39mtranspose(),pot_1,\n\u001b[1;32m      2\u001b[0m                 pot_2,material_labels\u001b[38;5;241m=\u001b[39m[\u001b[38;5;124m\"\u001b[39m\u001b[38;5;124mA\u001b[39m\u001b[38;5;124m\"\u001b[39m,\u001b[38;5;124m\"\u001b[39m\u001b[38;5;124mB\u001b[39m\u001b[38;5;124m\"\u001b[39m])\n",
      "\u001b[0;31mNameError\u001b[0m: name 'plots' is not defined"
     ]
    }
   ],
   "source": [
    "plots.plot_TvsP(np.array([0,10,20]),np.array([0,10,20]).transpose(),pot_1,\n",
    "                pot_2,material_labels=[\"A\",\"B\"])"
   ]
  }
 ],
 "metadata": {
  "kernelspec": {
   "display_name": "Python 3 (ipykernel)",
   "language": "python",
   "name": "python3"
  },
  "language_info": {
   "codemirror_mode": {
    "name": "ipython",
    "version": 3
   },
   "file_extension": ".py",
   "mimetype": "text/x-python",
   "name": "python",
   "nbconvert_exporter": "python",
   "pygments_lexer": "ipython3",
   "version": "3.10.4"
  },
  "vscode": {
   "interpreter": {
    "hash": "b0fa6594d8f4cbf19f97940f81e996739fb7646882a419484c72d19e05852a7e"
   }
  }
 },
 "nbformat": 4,
 "nbformat_minor": 1
}
