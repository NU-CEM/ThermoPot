{
 "cells": [
  {
   "cell_type": "markdown",
   "metadata": {
    "pycharm": {
     "name": "#%% md\n"
    }
   },
   "source": [
    "# Tutorial"
   ]
  },
  {
   "cell_type": "markdown",
   "metadata": {
    "pycharm": {
     "name": "#%% md\n"
    }
   },
   "source": [
    "## Introduction"
   ]
  },
  {
   "cell_type": "markdown",
   "source": [
    "In this tutorial we will explore the functionality of ThermoPot using the\n",
    "chalcogenide perovskite BaZrS$_3$ as a motivating example. We will consider\n",
    "three reactions:\n",
    "\n",
    "(1) BaZrS$_3$ -> BaS + ZrS$_2$\n",
    "\n",
    "(2) BaZrS$_3$ -> Ba + Zr + 3S\n",
    "\n",
    "(3) BaZrS$_3$ -> BaS$_2$ + ZrS\n",
    "\n",
    "We will use ThermoPot to calculate the change in Gibbs free energy for each\n",
    "of these reactions, at a range of temperature and pressures. We\n",
    "will also identify at which temperatures and pressures (if any) the\n",
    "perovskite decomposes into it's competing binary (BaS, BaS2, ZrS, ZrS$_2$) or\n",
    "elemental (Ba, Zr, S) phases.\n",
    "\n",
    "To do these calculations we need the total ground-state energy of each\n",
    "material, calculated using DFT or elsewise. For predictions and finite\n",
    "temperature and pressure we need, in addition, vibrational data for each\n",
    "material. For solid materials this can also be calculated from\n",
    "first-principles using harmonic lattice dynamical theory. For gaseous\n",
    "compounds (not considered in this tutorial), where there is a strong dependence\n",
    " on pressures close to standard pressure, experimental data can be used."
   ],
   "metadata": {
    "collapsed": false,
    "pycharm": {
     "name": "#%% md\n"
    }
   }
  },
  {
   "cell_type": "markdown",
   "source": [
    "## Code structure\n",
    "\n",
    "There are three core classes in ThermoPot:\n",
    "\n",
    "1) Calculation to store data for a\n",
    "single calculation. For example, an energy calculated using the HSE06 functional)\n",
    "\n",
    "2) Material to store data and make predictions for a single material. For\n",
    "example BaZrS$_3$, with energies calculated at\n",
    "various levels of theory.\n",
    "\n",
    "3) Reaction to store data  and make predictions for a single chemical\n",
    "reaction. For example BaZrS$_3$ -> BaS$_2$ + ZrS\n",
    "\n",
    "The structure is hierachial; one or more `Calculation` instances are used to\n",
    "build a `Material`, and three or more `Material` instances are used to\n",
    "calculate a `Reaction`. In addition to this there is the\n",
    "`Potential` class to store and plot a single  thermodynamic potential, and\n",
    "the `Potentials` class to store and plot multiple thermodynamic potentials.\n",
    "\n"
   ],
   "metadata": {
    "collapsed": false,
    "pycharm": {
     "name": "#%% md\n"
    }
   }
  },
  {
   "cell_type": "markdown",
   "source": [
    "## Step 1 - import relevant libraries\n",
    "\n"
   ],
   "metadata": {
    "collapsed": false,
    "pycharm": {
     "name": "#%% md\n"
    }
   }
  },
  {
   "cell_type": "code",
   "execution_count": 1,
   "outputs": [],
   "source": [
    "from thermopot import calculations, materials, reactions, potentials"
   ],
   "metadata": {
    "collapsed": false,
    "pycharm": {
     "name": "#%%\n"
    }
   }
  },
  {
   "cell_type": "markdown",
   "source": [
    "## Step 2 - create `calculations`\n",
    "\n",
    "There are currently two ways to create a `Calculations` instance:\n",
    "\n",
    "1) Manually input the attributes (calculated energy, xc-functional type,\n",
    "   volume, number of atoms). \n",
    "   \n",
    "2) Parse a FHI-aims output file to read this data\n",
    "   automatically. Provide the path for an `aims.out` file. \n",
    "\n",
    "We will provide an example for each which uses the `vars`\n",
    "function to show that the class attributes are equal.\n",
    "\n",
    "We plan to extend the code so that it can parse more electronic structure\n",
    "codes. Please [raise an issue on the Github repo](https://github.com/NU-CEM/ThermoPot/issues) if you would like us to\n",
    "support a particular code."
   ],
   "metadata": {
    "collapsed": false,
    "pycharm": {
     "name": "#%% md\n"
    }
   }
  },
  {
   "cell_type": "code",
   "execution_count": 2,
   "outputs": [
    {
     "data": {
      "text/plain": "{'volume': 63.2552,\n 'filepath': None,\n 'energy': -235926.586148547,\n 'xc': 'pbesol',\n 'NAtoms': 2}"
     },
     "execution_count": 2,
     "metadata": {},
     "output_type": "execute_result"
    }
   ],
   "source": [
    "BaS_calc = calculations.Calculation(volume=63.2552,energy=-235926.586148547,\n",
    "                            xc='pbesol',\n",
    "                        NAtoms=2)\n",
    "vars(BaS_calc)"
   ],
   "metadata": {
    "collapsed": false,
    "pycharm": {
     "name": "#%%\n"
    }
   }
  },
  {
   "cell_type": "code",
   "execution_count": 3,
   "outputs": [
    {
     "data": {
      "text/plain": "{'volume': 63.2552,\n 'filepath': '../BaZrS3/raw_aims_files/binary/BaS_Fm-3m/pbesol/aims.out',\n 'energy': -235926.58614863,\n 'xc': 'pbesol',\n 'NAtoms': 2}"
     },
     "execution_count": 3,
     "metadata": {},
     "output_type": "execute_result"
    }
   ],
   "source": [
    "BaS_calc = calculations.AimsCalculation(\"../BaZrS3/raw_aims_files/binary/BaS_Fm-3m/pbesol/aims.out\")\n",
    "vars(BaS_calc)"
   ],
   "metadata": {
    "collapsed": false,
    "pycharm": {
     "name": "#%%\n"
    }
   }
  },
  {
   "cell_type": "markdown",
   "source": [
    "To access in-notebook help for each module, function or class, docstrings can\n",
    " be printed by appending `?`. Alternatively, the Python `help()` function can be used."
   ],
   "metadata": {
    "collapsed": false,
    "pycharm": {
     "name": "#%% md\n"
    }
   }
  },
  {
   "cell_type": "code",
   "execution_count": 4,
   "outputs": [],
   "source": [
    "calculations.AimsCalculation?\n",
    "#help(calculations.AimsCalculation)"
   ],
   "metadata": {
    "collapsed": false,
    "pycharm": {
     "name": "#%%\n"
    }
   }
  },
  {
   "cell_type": "markdown",
   "source": [
    "We will now read in the calculations for the other compounds."
   ],
   "metadata": {
    "collapsed": false,
    "pycharm": {
     "name": "#%% md\n"
    }
   }
  },
  {
   "cell_type": "code",
   "execution_count": 5,
   "outputs": [],
   "source": [
    "BaZrS3_calc = calculations.AimsCalculation(\"../BaZrS3/raw_aims_files/ternary/BaZrS3_Pnma/pbesol/aims.out\")\n",
    "ZrS2_calc =  calculations.AimsCalculation(\"../BaZrS3/raw_aims_files/binary/ZrS2_P-3m1/pbesol/aims.out\")"
   ],
   "metadata": {
    "collapsed": false,
    "pycharm": {
     "name": "#%%\n"
    }
   }
  },
  {
   "cell_type": "markdown",
   "source": [
    "## Step 3 - create `materials`"
   ],
   "metadata": {
    "collapsed": false,
    "pycharm": {
     "name": "#%% md\n"
    }
   }
  },
  {
   "cell_type": "markdown",
   "source": [
    "The attributes (name, stoichiometry, filepath) of a `materials.Solid` has to be stored in a variable."
   ],
   "metadata": {
    "collapsed": false,
    "pycharm": {
     "name": "#%% md\n"
    }
   }
  },
  {
   "cell_type": "code",
   "execution_count": 6,
   "outputs": [],
   "source": [
    "BaZrS3 = materials.Solid('BaZrS3',{\"Ba\":1,\"Zr\":1,\"S\":3},\"../BaZrS3/phonopy_output/BaZrS3_Pnma.dat\",BaZrS3_calc)\n",
    "\n",
    "BaS = materials.Solid('BaS',{\"Ba\":1,\"S\":1},\"../BaZrS3/phonopy_output/BaS_Fm-3m.dat\",BaS_calc)\n",
    "\n",
    "ZrS2 = materials.Solid('ZrS2',{\"Zr\":1,\"S\":2},\"../BaZrS3/phonopy_output/ZrS2_P-3m1.dat\",ZrS2_calc)"
   ],
   "metadata": {
    "collapsed": false,
    "pycharm": {
     "name": "#%%\n"
    }
   }
  },
  {
   "cell_type": "code",
   "execution_count": 7,
   "outputs": [
    {
     "data": {
      "text/plain": "{'name': 'BaZrS3',\n 'stoichiometry': {'Ba': 1, 'Zr': 1, 'S': 3},\n 'energies': {'pbesol': -1425527.242293353},\n 'N': 5,\n 'volume': 484.624,\n 'NAtoms': 20,\n 'fu_cell': 4.0,\n 'phonons': '/Users/lucy/PycharmProjects/ThermoPot/thermopot/../BaZrS3/phonopy_output/BaZrS3_Pnma.dat'}"
     },
     "execution_count": 7,
     "metadata": {},
     "output_type": "execute_result"
    }
   ],
   "source": [
    "vars(BaZrS3)"
   ],
   "metadata": {
    "collapsed": false,
    "pycharm": {
     "name": "#%%\n"
    }
   }
  },
  {
   "cell_type": "markdown",
   "source": [
    "# Step 4 - define a `reaction`"
   ],
   "metadata": {
    "collapsed": false,
    "pycharm": {
     "name": "#%% md\n"
    }
   }
  },
  {
   "cell_type": "markdown",
   "source": [
    "We model the composition or decomposition of our `materials` with the\n",
    "`reaction` class. The first argument is a Python dictionary containing the\n",
    "reactants and number of formula units for each the second argument is  a\n",
    "Python dictionary containing the propducs and number of formula units for each."
   ],
   "metadata": {
    "collapsed": false,
    "pycharm": {
     "name": "#%% md\n"
    }
   }
  },
  {
   "cell_type": "code",
   "execution_count": 8,
   "outputs": [],
   "source": [
    "reaction_one = reactions.Reaction({BaZrS3:1}, {BaS:1,ZrS2:1})"
   ],
   "metadata": {
    "collapsed": false,
    "pycharm": {
     "name": "#%%\n"
    }
   }
  },
  {
   "cell_type": "code",
   "execution_count": 9,
   "outputs": [
    {
     "data": {
      "text/plain": "{'reactants': {<thermopot.materials.Solid at 0x7f90746a1700>: 1},\n 'products': {<thermopot.materials.Solid at 0x7f90746a1070>: 1,\n  <thermopot.materials.Solid at 0x7f90746a1610>: 1},\n 'T': 298.15,\n 'P': 100000.0,\n 'fu_scaling': 1}"
     },
     "execution_count": 9,
     "metadata": {},
     "output_type": "execute_result"
    }
   ],
   "source": [
    "vars(reaction_one)"
   ],
   "metadata": {
    "collapsed": false,
    "pycharm": {
     "name": "#%%\n"
    }
   }
  },
  {
   "cell_type": "code",
   "execution_count": 10,
   "outputs": [
    {
     "data": {
      "text/plain": "<thermopot.potential.Potential at 0x7f90730e1d30>"
     },
     "execution_count": 10,
     "metadata": {},
     "output_type": "execute_result"
    }
   ],
   "source": [
    "import numpy as np\n",
    "\n",
    "T = np.linspace(100, 1000, 100)\n",
    "P = np.array(np.logspace(1, 7, 100), ndmin=2).transpose()\n",
    "\n",
    "reaction_one.Dmu(T,P)"
   ],
   "metadata": {
    "collapsed": false,
    "pycharm": {
     "name": "#%%\n"
    }
   }
  },
  {
   "cell_type": "code",
   "execution_count": 11,
   "outputs": [],
   "source": [
    "GFE_reaction_one = reactions.Reaction"
   ],
   "metadata": {
    "collapsed": false,
    "pycharm": {
     "name": "#%%\n"
    }
   }
  },
  {
   "cell_type": "code",
   "execution_count": 12,
   "outputs": [
    {
     "ename": "AttributeError",
     "evalue": "'numpy.ndarray' object has no attribute 'P'",
     "output_type": "error",
     "traceback": [
      "\u001B[0;31m---------------------------------------------------------------------------\u001B[0m",
      "\u001B[0;31mAttributeError\u001B[0m                            Traceback (most recent call last)",
      "Input \u001B[0;32mIn [12]\u001B[0m, in \u001B[0;36m<cell line: 6>\u001B[0;34m()\u001B[0m\n\u001B[1;32m      3\u001B[0m T \u001B[38;5;241m=\u001B[39m np\u001B[38;5;241m.\u001B[39mlinspace(\u001B[38;5;241m100\u001B[39m, \u001B[38;5;241m1000\u001B[39m, \u001B[38;5;241m100\u001B[39m)\n\u001B[1;32m      4\u001B[0m P \u001B[38;5;241m=\u001B[39m np\u001B[38;5;241m.\u001B[39marray(np\u001B[38;5;241m.\u001B[39mlogspace(\u001B[38;5;241m1\u001B[39m, \u001B[38;5;241m7\u001B[39m, \u001B[38;5;241m100\u001B[39m), ndmin\u001B[38;5;241m=\u001B[39m\u001B[38;5;241m2\u001B[39m)\u001B[38;5;241m.\u001B[39mtranspose()\n\u001B[0;32m----> 6\u001B[0m GFE \u001B[38;5;241m=\u001B[39m \u001B[43mGFE_reaction_one\u001B[49m\u001B[38;5;241;43m.\u001B[39;49m\u001B[43mDmu\u001B[49m\u001B[43m(\u001B[49m\u001B[43mT\u001B[49m\u001B[43m,\u001B[49m\u001B[43mP\u001B[49m\u001B[43m)\u001B[49m \u001B[38;5;241m/\u001B[39m \u001B[38;5;241m1000\u001B[39m\n",
      "File \u001B[0;32m~/PycharmProjects/ThermoPot/thermopot/reactions.py:79\u001B[0m, in \u001B[0;36mReaction.Dmu\u001B[0;34m(self, T, P, xc, units)\u001B[0m\n\u001B[1;32m     76\u001B[0m \u001B[38;5;28;01mdef\u001B[39;00m \u001B[38;5;21mDmu\u001B[39m(\u001B[38;5;28mself\u001B[39m, T\u001B[38;5;241m=\u001B[39m\u001B[38;5;28;01mNone\u001B[39;00m, P\u001B[38;5;241m=\u001B[39m\u001B[38;5;28;01mNone\u001B[39;00m, xc\u001B[38;5;241m=\u001B[39m\u001B[38;5;124m\"\u001B[39m\u001B[38;5;124mpbesol\u001B[39m\u001B[38;5;124m\"\u001B[39m, units\u001B[38;5;241m=\u001B[39m\u001B[38;5;124m\"\u001B[39m\u001B[38;5;124meV\u001B[39m\u001B[38;5;124m\"\u001B[39m):\n\u001B[1;32m     78\u001B[0m     T \u001B[38;5;241m=\u001B[39m \u001B[38;5;28mself\u001B[39m\u001B[38;5;241m.\u001B[39mT \u001B[38;5;28;01mif\u001B[39;00m T \u001B[38;5;129;01mis\u001B[39;00m \u001B[38;5;28;01mNone\u001B[39;00m \u001B[38;5;28;01melse\u001B[39;00m T\n\u001B[0;32m---> 79\u001B[0m     P \u001B[38;5;241m=\u001B[39m \u001B[38;5;28;43mself\u001B[39;49m\u001B[38;5;241;43m.\u001B[39;49m\u001B[43mP\u001B[49m \u001B[38;5;28;01mif\u001B[39;00m P \u001B[38;5;129;01mis\u001B[39;00m \u001B[38;5;28;01mNone\u001B[39;00m \u001B[38;5;28;01melse\u001B[39;00m P\n\u001B[1;32m     81\u001B[0m     reactants_energy, products_energy \u001B[38;5;241m=\u001B[39m \u001B[38;5;241m0\u001B[39m, \u001B[38;5;241m0\u001B[39m\n\u001B[1;32m     82\u001B[0m     \u001B[38;5;28;01mfor\u001B[39;00m material, fu \u001B[38;5;129;01min\u001B[39;00m \u001B[38;5;28mself\u001B[39m\u001B[38;5;241m.\u001B[39mreactants\u001B[38;5;241m.\u001B[39mitems():\n",
      "\u001B[0;31mAttributeError\u001B[0m: 'numpy.ndarray' object has no attribute 'P'"
     ]
    }
   ],
   "source": [
    "import numpy as np\n",
    "\n",
    "T = np.linspace(100, 1000, 100)\n",
    "P = np.array(np.logspace(1, 7, 100), ndmin=2).transpose()\n",
    "\n",
    "GFE = GFE_reaction_one.Dmu(T,P) / 1000"
   ],
   "metadata": {
    "collapsed": false,
    "pycharm": {
     "name": "#%%\n"
    }
   }
  },
  {
   "cell_type": "code",
   "execution_count": null,
   "outputs": [],
   "source": [
    "plots.plot_TvsP(T,P,GFE)"
   ],
   "metadata": {
    "collapsed": false,
    "pycharm": {
     "name": "#%%\n"
    }
   }
  },
  {
   "cell_type": "code",
   "execution_count": null,
   "outputs": [],
   "source": [
    "import numpy as np\n",
    "pot_1 = np.array([[3,2,1],[4,1,1],[2,1,1]])\n",
    "pot_2 = np.array([[0,0,2],[0,4,5],[0,4,5]])"
   ],
   "metadata": {
    "collapsed": false,
    "pycharm": {
     "name": "#%%\n"
    }
   }
  },
  {
   "cell_type": "code",
   "execution_count": null,
   "outputs": [],
   "source": [
    "plots.plot_TvsP(np.array([0,10,20]),np.array([0,10,20]).transpose(),pot_1,\n",
    "                pot_2,material_labels=[\"A\",\"B\"])"
   ],
   "metadata": {
    "collapsed": false,
    "pycharm": {
     "name": "#%%\n"
    }
   }
  }
 ],
 "metadata": {
  "kernelspec": {
   "display_name": "Python 3 (ipykernel)",
   "language": "python",
   "name": "python3"
  },
  "language_info": {
   "codemirror_mode": {
    "name": "ipython",
    "version": 3
   },
   "file_extension": ".py",
   "mimetype": "text/x-python",
   "name": "python",
   "nbconvert_exporter": "python",
   "pygments_lexer": "ipython3",
   "version": "3.10.4"
  },
  "vscode": {
   "interpreter": {
    "hash": "b0fa6594d8f4cbf19f97940f81e996739fb7646882a419484c72d19e05852a7e"
   }
  }
 },
 "nbformat": 4,
 "nbformat_minor": 1
}