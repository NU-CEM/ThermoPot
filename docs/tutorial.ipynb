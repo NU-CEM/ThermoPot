{
 "cells": [
  {
   "cell_type": "markdown",
   "source": [
    "# Tutorial - stability of BaZrS3"
   ],
   "metadata": {
    "collapsed": false,
    "pycharm": {
     "name": "#%% md\n"
    }
   }
  },
  {
   "cell_type": "markdown",
   "source": [
    "## Introduction"
   ],
   "metadata": {
    "collapsed": false,
    "pycharm": {
     "name": "#%% md\n"
    }
   },
   "execution_count": 1
  },
  {
   "cell_type": "markdown",
   "source": [
    "In this tutorial we will explore the functionality of ThermoPot using the\n",
    "chalcogenide perovskite BaZrS3 as a motivating example. We will consider\n",
    "three reactions:\n",
    "\n",
    "BaZrS3 -> Ba + Zr + 3S\n",
    "BaZrS3 -> BaS2 + ZrS\n",
    "BaZrS3 -> BaS + ZrS2\n",
    "\n",
    "We will use ThermoPot to calculate the change in Gibbs free energy for each\n",
    "of these reactions, at a range of temperature and pressures. We\n",
    "will also identify at which temperatures and pressures (if any) the\n",
    "perovskite decomposes into it's competing binary (BaS, BaS2, ZrS, ZrS2) or\n",
    "elemental (Ba, Zr, S) phases.\n",
    "\n",
    "To do these calculations we need the total ground-state energy of each\n",
    "material, calculated using DFT or else-wise. For predictions and finite\n",
    "temperature and pressure we need, in addition, vibrational data for each\n",
    "material. For solid materials this can alos be calculated from\n",
    "first-principles using harmonic lattice dynamical theory. For gaseous\n",
    "compounds (not considered in this tutorial), where there is a strong dependence\n",
    " on pressures close to standard pressure,experimental data is used."
   ],
   "metadata": {
    "collapsed": false,
    "pycharm": {
     "name": "#%% md\n"
    }
   }
  },
  {
   "cell_type": "markdown",
   "source": [
    "## Step 1 - import relevant libraries"
   ],
   "metadata": {
    "collapsed": false,
    "pycharm": {
     "name": "#%% md\n"
    }
   }
  },
  {
   "cell_type": "code",
   "execution_count": 2,
   "outputs": [
    {
     "ename": "ModuleNotFoundError",
     "evalue": "No module named 'numpy'",
     "output_type": "error",
     "traceback": [
      "\u001B[0;31m---------------------------------------------------------------------------\u001B[0m",
      "\u001B[0;31mModuleNotFoundError\u001B[0m                       Traceback (most recent call last)",
      "Input \u001B[0;32mIn [2]\u001B[0m, in \u001B[0;36m<cell line: 1>\u001B[0;34m()\u001B[0m\n\u001B[0;32m----> 1\u001B[0m \u001B[38;5;28;01mfrom\u001B[39;00m \u001B[38;5;21;01mthermopot\u001B[39;00m \u001B[38;5;28;01mimport\u001B[39;00m calculations, materials, reactions, plots\n",
      "File \u001B[0;32m~/PycharmProjects/ThermoPot/thermopot/materials.py:1\u001B[0m, in \u001B[0;36m<module>\u001B[0;34m\u001B[0m\n\u001B[0;32m----> 1\u001B[0m \u001B[38;5;28;01mimport\u001B[39;00m \u001B[38;5;21;01mnumpy\u001B[39;00m \u001B[38;5;28;01mas\u001B[39;00m \u001B[38;5;21;01mnp\u001B[39;00m\n\u001B[1;32m      2\u001B[0m \u001B[38;5;28;01mfrom\u001B[39;00m \u001B[38;5;21;01mscipy\u001B[39;00m \u001B[38;5;28;01mimport\u001B[39;00m constants\n\u001B[1;32m      3\u001B[0m \u001B[38;5;28;01mfrom\u001B[39;00m \u001B[38;5;21;01mthermopot\u001B[39;00m \u001B[38;5;28;01mimport\u001B[39;00m interpolate\n",
      "\u001B[0;31mModuleNotFoundError\u001B[0m: No module named 'numpy'"
     ]
    }
   ],
   "source": [
    "from thermopot import calculations, materials, reactions, plots"
   ],
   "metadata": {
    "collapsed": false,
    "pycharm": {
     "name": "#%%\n"
    }
   }
  },
  {
   "cell_type": "markdown",
   "source": [
    "## Step 1 - read in calculations\n",
    "\n",
    "If you use FHI-aims for"
   ],
   "metadata": {
    "collapsed": false,
    "pycharm": {
     "name": "#%% md\n"
    }
   }
  },
  {
   "cell_type": "code",
   "execution_count": null,
   "outputs": [],
   "source": [
    "from"
   ],
   "metadata": {
    "collapsed": false,
    "pycharm": {
     "name": "#%%\n"
    }
   }
  }
 ],
 "metadata": {
  "kernelspec": {
   "display_name": "Python 3",
   "language": "python",
   "name": "python3"
  },
  "language_info": {
   "codemirror_mode": {
    "name": "ipython",
    "version": 2
   },
   "file_extension": ".py",
   "mimetype": "text/x-python",
   "name": "python",
   "nbconvert_exporter": "python",
   "pygments_lexer": "ipython2",
   "version": "2.7.6"
  }
 },
 "nbformat": 4,
 "nbformat_minor": 0
}