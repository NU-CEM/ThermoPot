{
 "cells": [
  {
   "cell_type": "markdown",
   "source": [
    "# Tutorial"
   ],
   "metadata": {
    "collapsed": false,
    "pycharm": {
     "name": "#%% md\n"
    }
   }
  },
  {
   "cell_type": "markdown",
   "source": [
    "## Introduction"
   ],
   "metadata": {
    "collapsed": false,
    "pycharm": {
     "name": "#%% md\n"
    }
   },
   "execution_count": 1
  },
  {
   "cell_type": "markdown",
   "source": [
    "In this tutorial we will explore the functionality of ThermoPot using the\n",
    "chalcogenide perovskite BaZrS3 as a motivating example. We will consider\n",
    "three reactions:\n",
    "\n",
    "BaZrS3 -> Ba + Zr + 3S\n",
    "\n",
    "BaZrS3 -> BaS2 + ZrS\n",
    "\n",
    "BaZrS3 -> BaS + ZrS2\n",
    "\n",
    "We will use ThermoPot to calculate the change in Gibbs free energy for each\n",
    "of these reactions, at a range of temperature and pressures. We\n",
    "will also identify at which temperatures and pressures (if any) the\n",
    "perovskite decomposes into it's competing binary (BaS, BaS2, ZrS, ZrS2) or\n",
    "elemental (Ba, Zr, S) phases.\n",
    "\n",
    "To do these calculations we need the total ground-state energy of each\n",
    "material, calculated using DFT or else-wise. For predictions and finite\n",
    "temperature and pressure we need, in addition, vibrational data for each\n",
    "material. For solid materials this can alos be calculated from\n",
    "first-principles using harmonic lattice dynamical theory. For gaseous\n",
    "compounds (not considered in this tutorial), where there is a strong dependence\n",
    " on pressures close to standard pressure,experimental data is used."
   ],
   "metadata": {
    "collapsed": false,
    "pycharm": {
     "name": "#%% md\n"
    }
   }
  },
  {
   "cell_type": "markdown",
   "source": [
    "## Code structure\n",
    "\n",
    "There are three core classes in ThermoPot:\n",
    "\n",
    "1) Calculation to store data for a\n",
    "single calculation. For example, an energy calculated using the HSE0\n",
    "functional)\n",
    "2) Material to store data and make predictions for a single material. For\n",
    "example BaZrS3, with energies calculated at\n",
    "various levels of theory.\n",
    "3) Reaction to store data  and make predictions for a single chemical\n",
    "reaction. For example BaZrS3 -> BaS2 + ZrS\n",
    "\n",
    "The structure is hierachial; one more Calculation instances are used to\n",
    "build a Material instance, and three or more Material objects are used to\n",
    "calculate a Reaction instance. In addition to this there is a `plots` module\n",
    " for plotting results."
   ],
   "metadata": {
    "collapsed": false,
    "pycharm": {
     "name": "#%% md\n"
    }
   }
  },
  {
   "cell_type": "markdown",
   "source": [
    "## Step 1 - import relevant libraries\n",
    "\n"
   ],
   "metadata": {
    "collapsed": false,
    "pycharm": {
     "name": "#%% md\n"
    }
   }
  },
  {
   "cell_type": "code",
   "execution_count": 1,
   "outputs": [],
   "source": [
    "from thermopot import calculations, materials, reactions, plots"
   ],
   "metadata": {
    "collapsed": false,
    "pycharm": {
     "name": "#%%\n"
    }
   }
  },
  {
   "cell_type": "markdown",
   "source": [
    "## Step 2 - create a Calculation instance\n",
    "\n",
    "There are two ways to create a Calculation object. The first is to manually\n",
    "input the attributes (calculated energy, xc-functional type, volume, number\n",
    "of atoms). The second is to parse a FHI-aims output file to read this data\n",
    " automatically. We will provide an example for each and use the `vars`\n",
    " function to show that the class attributes are equal."
   ],
   "metadata": {
    "collapsed": false,
    "pycharm": {
     "name": "#%% md\n"
    }
   }
  },
  {
   "cell_type": "code",
   "execution_count": 2,
   "outputs": [
    {
     "data": {
      "text/plain": "{'volume': 63.2552,\n 'filepath': '../BaZrS3/aims_output/BaS_pbesol_relax_outfile',\n 'energy': -235926.586148547,\n 'xc': 'pbesol',\n 'NAtoms': 2}"
     },
     "execution_count": 2,
     "metadata": {},
     "output_type": "execute_result"
    }
   ],
   "source": [
    "aims_calc = calculations.AimsCalculation(\".\"\n",
    "                               \"./BaZrS3/aims_output/BaS_pbesol_relax_outfile\")\n",
    "vars(aims_calc)"
   ],
   "metadata": {
    "collapsed": false,
    "pycharm": {
     "name": "#%%\n"
    }
   }
  },
  {
   "cell_type": "code",
   "execution_count": 3,
   "outputs": [
    {
     "data": {
      "text/plain": "{'volume': 63.2552,\n 'filepath': None,\n 'energy': -235926.586148547,\n 'xc': 'pbesol',\n 'NAtoms': 2}"
     },
     "execution_count": 3,
     "metadata": {},
     "output_type": "execute_result"
    }
   ],
   "source": [
    "calc = calculations.Calculation(volume=63.2552,energy=-235926.586148547,\n",
    "                            xc='pbesol',\n",
    "                        NAtoms=2)\n",
    "vars(calc)"
   ],
   "metadata": {
    "collapsed": false,
    "pycharm": {
     "name": "#%%\n"
    }
   }
  },
  {
   "cell_type": "markdown",
   "source": [
    "## Step 3 - create a materials instance\n",
    "\n"
   ],
   "metadata": {
    "collapsed": false,
    "pycharm": {
     "name": "#%% md\n"
    }
   }
  },
  {
   "cell_type": "code",
   "execution_count": 4,
   "outputs": [
    {
     "data": {
      "text/plain": "{'name': 'BaZrS3',\n 'stoichiometry': {'Ba': 1, 'Zr': 1, 'S': 3},\n 'energies': {'pbesol': -235926.586148547},\n 'N': 5,\n 'volume': 63.2552,\n 'NAtoms': 2,\n 'fu_cell': 0.4,\n 'phonons': '/Users/lucy/PycharmProjects/ThermoPot/thermopot/../BaZrS3/phonopy_output/BaZrS3_Pnma.dat'}"
     },
     "execution_count": 4,
     "metadata": {},
     "output_type": "execute_result"
    }
   ],
   "source": [
    "BaZrS3 = materials.Solid('BaZrS3',{\"Ba\":1,\"Zr\":1,\"S\":3},\"../BaZrS3/phonopy_output/BaZrS3_Pnma.dat\",calc)\n",
    "vars(BaZrS3)"
   ],
   "metadata": {
    "collapsed": false,
    "pycharm": {
     "name": "#%%\n"
    }
   }
  },
  {
   "cell_type": "code",
   "execution_count": 5,
   "outputs": [],
   "source": [
    "test = reactions.Reaction({BaZrS3:1},{BaZrS3:2})"
   ],
   "metadata": {
    "collapsed": false,
    "pycharm": {
     "name": "#%%\n"
    }
   }
  },
  {
   "cell_type": "code",
   "execution_count": 6,
   "outputs": [
    {
     "data": {
      "text/plain": "{'reactants': {<thermopot.materials.Solid at 0x7fe26beb6040>: 1},\n 'products': {<thermopot.materials.Solid at 0x7fe26beb6040>: 2},\n 'T': 298.15,\n 'P': 100000.0}"
     },
     "execution_count": 6,
     "metadata": {},
     "output_type": "execute_result"
    }
   ],
   "source": [
    "vars(test)"
   ],
   "metadata": {
    "collapsed": false,
    "pycharm": {
     "name": "#%%\n"
    }
   }
  },
  {
   "cell_type": "code",
   "execution_count": 7,
   "outputs": [],
   "source": [
    "import numpy as np\n",
    "\n",
    "T = np.linspace(100, 1000, 100)\n",
    "P = np.array(np.logspace(1, 7, 100), ndmin=2).transpose()\n",
    "\n",
    "GFE = test.Dmu_eV_pbesol(T,P) / 1000"
   ],
   "metadata": {
    "collapsed": false,
    "pycharm": {
     "name": "#%%\n"
    }
   }
  },
  {
   "cell_type": "code",
   "execution_count": 8,
   "outputs": [
    {
     "data": {
      "text/plain": "array([[1.00000000e+01],\n       [1.14975700e+01],\n       [1.32194115e+01],\n       [1.51991108e+01],\n       [1.74752840e+01],\n       [2.00923300e+01],\n       [2.31012970e+01],\n       [2.65608778e+01],\n       [3.05385551e+01],\n       [3.51119173e+01],\n       [4.03701726e+01],\n       [4.64158883e+01],\n       [5.33669923e+01],\n       [6.13590727e+01],\n       [7.05480231e+01],\n       [8.11130831e+01],\n       [9.32603347e+01],\n       [1.07226722e+02],\n       [1.23284674e+02],\n       [1.41747416e+02],\n       [1.62975083e+02],\n       [1.87381742e+02],\n       [2.15443469e+02],\n       [2.47707636e+02],\n       [2.84803587e+02],\n       [3.27454916e+02],\n       [3.76493581e+02],\n       [4.32876128e+02],\n       [4.97702356e+02],\n       [5.72236766e+02],\n       [6.57933225e+02],\n       [7.56463328e+02],\n       [8.69749003e+02],\n       [1.00000000e+03],\n       [1.14975700e+03],\n       [1.32194115e+03],\n       [1.51991108e+03],\n       [1.74752840e+03],\n       [2.00923300e+03],\n       [2.31012970e+03],\n       [2.65608778e+03],\n       [3.05385551e+03],\n       [3.51119173e+03],\n       [4.03701726e+03],\n       [4.64158883e+03],\n       [5.33669923e+03],\n       [6.13590727e+03],\n       [7.05480231e+03],\n       [8.11130831e+03],\n       [9.32603347e+03],\n       [1.07226722e+04],\n       [1.23284674e+04],\n       [1.41747416e+04],\n       [1.62975083e+04],\n       [1.87381742e+04],\n       [2.15443469e+04],\n       [2.47707636e+04],\n       [2.84803587e+04],\n       [3.27454916e+04],\n       [3.76493581e+04],\n       [4.32876128e+04],\n       [4.97702356e+04],\n       [5.72236766e+04],\n       [6.57933225e+04],\n       [7.56463328e+04],\n       [8.69749003e+04],\n       [1.00000000e+05],\n       [1.14975700e+05],\n       [1.32194115e+05],\n       [1.51991108e+05],\n       [1.74752840e+05],\n       [2.00923300e+05],\n       [2.31012970e+05],\n       [2.65608778e+05],\n       [3.05385551e+05],\n       [3.51119173e+05],\n       [4.03701726e+05],\n       [4.64158883e+05],\n       [5.33669923e+05],\n       [6.13590727e+05],\n       [7.05480231e+05],\n       [8.11130831e+05],\n       [9.32603347e+05],\n       [1.07226722e+06],\n       [1.23284674e+06],\n       [1.41747416e+06],\n       [1.62975083e+06],\n       [1.87381742e+06],\n       [2.15443469e+06],\n       [2.47707636e+06],\n       [2.84803587e+06],\n       [3.27454916e+06],\n       [3.76493581e+06],\n       [4.32876128e+06],\n       [4.97702356e+06],\n       [5.72236766e+06],\n       [6.57933225e+06],\n       [7.56463328e+06],\n       [8.69749003e+06],\n       [1.00000000e+07]])"
     },
     "execution_count": 8,
     "metadata": {},
     "output_type": "execute_result"
    }
   ],
   "source": [
    "P"
   ],
   "metadata": {
    "collapsed": false,
    "pycharm": {
     "name": "#%%\n"
    }
   }
  },
  {
   "cell_type": "code",
   "execution_count": 9,
   "outputs": [
    {
     "data": {
      "text/plain": "<Figure size 432x288 with 2 Axes>",
      "image/png": "[encoded data removed]"
     },
     "metadata": {
      "needs_background": "light"
     },
     "output_type": "display_data"
    }
   ],
   "source": [
    "\n",
    "plots.plot_TvsP(T,P,GFE)"
   ],
   "metadata": {
    "collapsed": false,
    "pycharm": {
     "name": "#%%\n"
    }
   }
  },
  {
   "cell_type": "code",
   "execution_count": 10,
   "outputs": [],
   "source": [
    "import numpy as np\n",
    "pot_1 = np.array([[3,2,1],[4,1,1],[2,1,1]])\n",
    "pot_2 = np.array([[0,0,2],[0,4,5],[0,4,5]])"
   ],
   "metadata": {
    "collapsed": false,
    "pycharm": {
     "name": "#%%\n"
    }
   }
  },
  {
   "cell_type": "code",
   "execution_count": 11,
   "outputs": [
    {
     "data": {
      "text/plain": "<Figure size 432x288 with 1 Axes>",
      "image/png": "[encoded data removed]"
     },
     "metadata": {
      "needs_background": "light"
     },
     "output_type": "display_data"
    }
   ],
   "source": [
    "plots.plot_TvsP(np.array([0,10,20]),np.array([0,10,20]).transpose(),pot_1,\n",
    "                pot_2,material_labels=[\"A\",\"B\"])"
   ],
   "metadata": {
    "collapsed": false,
    "pycharm": {
     "name": "#%%\n"
    }
   }
  },
  {
   "cell_type": "code",
   "execution_count": 12,
   "outputs": [],
   "source": [
    "from thermopot import stability"
   ],
   "metadata": {
    "collapsed": false,
    "pycharm": {
     "name": "#%%\n"
    }
   }
  },
  {
   "cell_type": "code",
   "execution_count": 13,
   "outputs": [
    {
     "ename": "TypeError",
     "evalue": "find_stable_materials() takes 1 positional argument but 2 were given",
     "output_type": "error",
     "traceback": [
      "\u001B[0;31m---------------------------------------------------------------------------\u001B[0m",
      "\u001B[0;31mTypeError\u001B[0m                                 Traceback (most recent call last)",
      "Input \u001B[0;32mIn [13]\u001B[0m, in \u001B[0;36m<cell line: 1>\u001B[0;34m()\u001B[0m\n\u001B[0;32m----> 1\u001B[0m min_pot \u001B[38;5;241m=\u001B[39m \u001B[43mstability\u001B[49m\u001B[38;5;241;43m.\u001B[39;49m\u001B[43mfind_stable_materials\u001B[49m\u001B[43m(\u001B[49m\u001B[43mpot_1\u001B[49m\u001B[43m,\u001B[49m\u001B[43mpot_2\u001B[49m\u001B[43m)\u001B[49m\n",
      "\u001B[0;31mTypeError\u001B[0m: find_stable_materials() takes 1 positional argument but 2 were given"
     ]
    }
   ],
   "source": [
    "min_pot = stability.find_stable_materials(pot_1,pot_2)"
   ],
   "metadata": {
    "collapsed": false,
    "pycharm": {
     "name": "#%%\n"
    }
   }
  },
  {
   "cell_type": "code",
   "execution_count": null,
   "outputs": [],
   "source": [
    "pot_1.shape"
   ],
   "metadata": {
    "collapsed": false,
    "pycharm": {
     "name": "#%%\n"
    }
   }
  },
  {
   "cell_type": "code",
   "execution_count": null,
   "outputs": [],
   "source": [
    "min_pot"
   ],
   "metadata": {
    "collapsed": false,
    "pycharm": {
     "name": "#%%\n"
    }
   }
  },
  {
   "cell_type": "code",
   "execution_count": null,
   "outputs": [],
   "source": [
    "pot_1 & min_pot"
   ],
   "metadata": {
    "collapsed": false,
    "pycharm": {
     "name": "#%%\n"
    }
   }
  },
  {
   "cell_type": "code",
   "execution_count": null,
   "outputs": [],
   "source": [
    "pot_2 & min_pot"
   ],
   "metadata": {
    "collapsed": false,
    "pycharm": {
     "name": "#%%\n"
    }
   }
  },
  {
   "cell_type": "code",
   "execution_count": null,
   "outputs": [],
   "source": [
    "pot_1"
   ],
   "metadata": {
    "collapsed": false,
    "pycharm": {
     "name": "#%%\n"
    }
   }
  },
  {
   "cell_type": "code",
   "execution_count": null,
   "outputs": [],
   "source": [
    "pot_2"
   ],
   "metadata": {
    "collapsed": false,
    "pycharm": {
     "name": "#%%\n"
    }
   }
  },
  {
   "cell_type": "code",
   "execution_count": null,
   "outputs": [],
   "source": [
    "min_pot == pot_1"
   ],
   "metadata": {
    "collapsed": false,
    "pycharm": {
     "name": "#%%\n"
    }
   }
  },
  {
   "cell_type": "code",
   "execution_count": null,
   "outputs": [],
   "source": [
    "min_pot[min_pot == pot_1] = 11"
   ],
   "metadata": {
    "collapsed": false,
    "pycharm": {
     "name": "#%%\n"
    }
   }
  },
  {
   "cell_type": "code",
   "execution_count": null,
   "outputs": [],
   "source": [
    "min_pot"
   ],
   "metadata": {
    "collapsed": false,
    "pycharm": {
     "name": "#%%\n"
    }
   }
  },
  {
   "cell_type": "code",
   "execution_count": null,
   "outputs": [],
   "source": [
    "min_pot[min_pot == pot_2]=14"
   ],
   "metadata": {
    "collapsed": false,
    "pycharm": {
     "name": "#%%\n"
    }
   }
  },
  {
   "cell_type": "code",
   "execution_count": null,
   "outputs": [],
   "source": [
    "min_pot"
   ],
   "metadata": {
    "collapsed": false,
    "pycharm": {
     "name": "#%%\n"
    }
   }
  },
  {
   "cell_type": "code",
   "execution_count": null,
   "outputs": [],
   "source": [],
   "metadata": {
    "collapsed": false,
    "pycharm": {
     "name": "#%%\n"
    }
   }
  }
 ],
 "metadata": {
  "kernelspec": {
   "display_name": "Python 3",
   "language": "python",
   "name": "python3"
  },
  "language_info": {
   "codemirror_mode": {
    "name": "ipython",
    "version": 2
   },
   "file_extension": ".py",
   "mimetype": "text/x-python",
   "name": "python",
   "nbconvert_exporter": "python",
   "pygments_lexer": "ipython2",
   "version": "2.7.6"
  }
 },
 "nbformat": 4,
 "nbformat_minor": 0
}