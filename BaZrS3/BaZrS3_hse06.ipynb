{
 "cells": [
  {
   "cell_type": "code",
   "execution_count": 1,
   "metadata": {},
   "outputs": [],
   "source": [
    "import sys\n",
    "sys.path.insert(0, \"..\")"
   ]
  },
  {
   "cell_type": "markdown",
   "metadata": {
    "pycharm": {
     "name": "#%% md\n"
    }
   },
   "source": [
    "##### Investigate\n",
    "\n",
    "- Break GFE into its indivdual contributions\n",
    "- Zr3S4 phonon data?\n",
    "- Dependence on functional\n"
   ]
  },
  {
   "cell_type": "markdown",
   "metadata": {
    "pycharm": {
     "name": "#%% md\n"
    }
   },
   "source": [
    "## Ba + Zr + 3s <-> BaZrS3"
   ]
  },
  {
   "cell_type": "code",
   "execution_count": 2,
   "metadata": {
    "pycharm": {
     "name": "#%%\n"
    }
   },
   "outputs": [],
   "source": [
    "import numpy as np\n",
    "from thermopot import materials, calculations, reactions, potentials"
   ]
  },
  {
   "cell_type": "code",
   "execution_count": 3,
   "metadata": {
    "pycharm": {
     "name": "#%%\n"
    }
   },
   "outputs": [
    {
     "name": "stdout",
     "output_type": "stream",
     "text": [
      "{'volume': 484.624, 'filepath': '../BaZrS3/raw_aims_files/ternary/BaZrS3_Pnma/hse06/aims.out', 'energy': -1426337.508086516, 'xc': 'hse06', 'NAtoms': 20}\n",
      "{'volume': 56.7939, 'filepath': '../BaZrS3/raw_aims_files/elemental/Ba_Im-3m/hse06_BS/aims.out', 'energy': -225150.28408775, 'xc': 'hse06', 'NAtoms': 1}\n",
      "{'volume': 44.8819, 'filepath': '../BaZrS3/raw_aims_files/elemental/Zr_P63_mmc/hse06_BS/aims.out', 'energy': -197567.055968887, 'xc': 'hse06', 'NAtoms': 2}\n",
      "{'volume': 869.131, 'filepath': '../BaZrS3/raw_aims_files/elemental/S_P2_c/hse06_BS/aims.out', 'energy': -348162.25034527, 'xc': 'hse06', 'NAtoms': 32}\n"
     ]
    }
   ],
   "source": [
    "BaZrS3_calc = calculations.AimsCalculation(\"../BaZrS3/raw_aims_files/ternary/BaZrS3_Pnma/hse06/aims.out\")\n",
    "Ba_calc = calculations.AimsCalculation(\"../BaZrS3/raw_aims_files/elemental/Ba_Im-3m/hse06_BS/aims.out\")\n",
    "Zr_calc = calculations.AimsCalculation(\"../BaZrS3/raw_aims_files/elemental/Zr_P63_mmc/hse06_BS/aims.out\")\n",
    "S_calc = calculations.AimsCalculation(\"../BaZrS3/raw_aims_files/elemental/S_P2_c/hse06_BS/aims.out\")\n",
    "print(vars(BaZrS3_calc))\n",
    "print(vars(Ba_calc))\n",
    "print(vars(Zr_calc))\n",
    "print(vars(S_calc))\n"
   ]
  },
  {
   "cell_type": "code",
   "execution_count": 4,
   "metadata": {
    "pycharm": {
     "name": "#%%\n"
    }
   },
   "outputs": [],
   "source": [
    "BaZrS3 = materials.Solid(\"BaZrS3\",{\"Ba\": 1,\"Zr\": 1,\"S\":3},\n",
    "                                                          \".\"\n",
    "                                                          \"./BaZrS3/phonopy_output/BaZrS3_Pnma.dat\",calculation=BaZrS3_calc)\n",
    "Ba = materials.Solid(\"Ba\",{\"Ba\": 1},\"../BaZrS3/phonopy_output/Ba_Im-3m.dat\",calculation=Ba_calc)\n",
    "Zr = materials.Solid(\"Zr\",{\"Zr\": 1},\"../BaZrS3/phonopy_output/Zr_P63_mmc\"\n",
    "                                    \".dat\",calculation=Zr_calc)\n",
    "S = materials.Solid(\"S\",{\"S\":1},\"../BaZrS3/phonopy_output/S_adam.dat\",\n",
    "                    calculation=S_calc)"
   ]
  },
  {
   "cell_type": "code",
   "execution_count": 5,
   "metadata": {
    "pycharm": {
     "name": "#%%\n"
    }
   },
   "outputs": [
    {
     "name": "stdout",
     "output_type": "stream",
     "text": [
      "-2.0707959132967515\n",
      "-2.0707904921029696\n"
     ]
    }
   ],
   "source": [
    "bulk_reaction = reactions.Reaction({Ba:1,Zr:1,S:3},{BaZrS3:1})\n",
    "print(bulk_reaction.DE(xc='hse06')/5)\n",
    "print(bulk_reaction.DH(xc='hse06',T=0).potential / 5)"
   ]
  },
  {
   "cell_type": "code",
   "execution_count": 6,
   "metadata": {
    "pycharm": {
     "name": "#%%\n"
    }
   },
   "outputs": [
    {
     "data": {
      "text/plain": [
       "-2.0707904921029696"
      ]
     },
     "execution_count": 6,
     "metadata": {},
     "output_type": "execute_result"
    }
   ],
   "source": [
    "bulk_reaction = reactions.Reaction({Ba:1,Zr:1,S:3},{BaZrS3:1},temperature=0,pressure=0)\n",
    "bulk_reaction.Dmu(xc='hse06').potential / 5"
   ]
  },
  {
   "cell_type": "markdown",
   "metadata": {
    "pycharm": {
     "name": "#%% md\n"
    }
   },
   "source": [
    "The above figure compares to a formation energy of -1.818 eV/atom reported on the materials project."
   ]
  },
  {
   "cell_type": "code",
   "execution_count": 7,
   "metadata": {
    "pycharm": {
     "name": "#%%\n"
    }
   },
   "outputs": [],
   "source": [
    "T = np.linspace(100,1000,100) # K\n",
    "P = np.array( np.logspace(-3,6,100),ndmin=2).transpose() # Pa\n",
    "\n",
    "bulk_reaction = reactions.Reaction({Ba:1,Zr:1,S:3},{BaZrS3:1},temperature=T,pressure=P)"
   ]
  },
  {
   "cell_type": "code",
   "execution_count": 8,
   "metadata": {
    "pycharm": {
     "name": "#%%\n"
    }
   },
   "outputs": [
    {
     "data": {
      "text/plain": [
       "<module 'matplotlib.pyplot' from '/Users/lucy/miniconda3/lib/python3.8/site-packages/matplotlib/pyplot.py'>"
      ]
     },
     "execution_count": 8,
     "metadata": {},
     "output_type": "execute_result"
    },
    {
     "data": {
      "image/png": "[encoded data removed]",
      "text/plain": [
       "<Figure size 432x288 with 2 Axes>"
      ]
     },
     "metadata": {
      "needs_background": "light"
     },
     "output_type": "display_data"
    }
   ],
   "source": [
    "GFE = bulk_reaction.Dmu(xc='hse06',units=\"kJ\")\n",
    "GFE.plot_TvsP(scale_range=[-1050,-1020])"
   ]
  },
  {
   "cell_type": "markdown",
   "metadata": {
    "pycharm": {
     "name": "#%% md\n"
    }
   },
   "source": [
    "The above Gibbs formation energy is in the -9eV range, and shifts by an amount\n",
    "(~ 25kJ) comparable to the CZTS study (~ 30kJ), with a weak dependence  on\n",
    "Pressure, as expected."
   ]
  },
  {
   "cell_type": "markdown",
   "metadata": {
    "pycharm": {
     "name": "#%% md\n"
    }
   },
   "source": [
    "## 2Ba+2Zr+3S2 <-> 2BaZrS3"
   ]
  },
  {
   "cell_type": "code",
   "execution_count": 10,
   "metadata": {
    "pycharm": {
     "name": "#%%\n"
    }
   },
   "outputs": [
    {
     "ename": "FileNotFoundError",
     "evalue": "[Errno 2] No such file or directory: '../BaZrS3/raw_aims_files/elemental/S2/hse06/aims.out'",
     "output_type": "error",
     "traceback": [
      "\u001b[0;31m---------------------------------------------------------------------------\u001b[0m",
      "\u001b[0;31mFileNotFoundError\u001b[0m                         Traceback (most recent call last)",
      "\u001b[0;32m<ipython-input-10-5b3608b1539c>\u001b[0m in \u001b[0;36m<module>\u001b[0;34m\u001b[0m\n\u001b[0;32m----> 1\u001b[0;31m \u001b[0mS2_calculation\u001b[0m \u001b[0;34m=\u001b[0m \u001b[0mcalculations\u001b[0m\u001b[0;34m.\u001b[0m\u001b[0mAimsCalculation\u001b[0m\u001b[0;34m(\u001b[0m\u001b[0;34m\"../BaZrS3/raw_aims_files/elemental/S2/hse06/aims.out\"\u001b[0m\u001b[0;34m,\u001b[0m\u001b[0mgas\u001b[0m\u001b[0;34m=\u001b[0m\u001b[0;32mTrue\u001b[0m\u001b[0;34m)\u001b[0m\u001b[0;34m\u001b[0m\u001b[0;34m\u001b[0m\u001b[0m\n\u001b[0m",
      "\u001b[0;32m~/PycharmProjects/ThermoPot/BaZrS3/../thermopot/calculations.py\u001b[0m in \u001b[0;36m__init__\u001b[0;34m(self, filepath, gas)\u001b[0m\n\u001b[1;32m    106\u001b[0m         \u001b[0;32mif\u001b[0m \u001b[0;32mnot\u001b[0m \u001b[0mgas\u001b[0m\u001b[0;34m:\u001b[0m\u001b[0;34m\u001b[0m\u001b[0;34m\u001b[0m\u001b[0m\n\u001b[1;32m    107\u001b[0m             \u001b[0mself\u001b[0m\u001b[0;34m.\u001b[0m\u001b[0mvolume\u001b[0m \u001b[0;34m=\u001b[0m \u001b[0mself\u001b[0m\u001b[0;34m.\u001b[0m\u001b[0mget_volume\u001b[0m\u001b[0;34m(\u001b[0m\u001b[0;34m)\u001b[0m\u001b[0;34m\u001b[0m\u001b[0;34m\u001b[0m\u001b[0m\n\u001b[0;32m--> 108\u001b[0;31m         \u001b[0mself\u001b[0m\u001b[0;34m.\u001b[0m\u001b[0menergy\u001b[0m \u001b[0;34m=\u001b[0m \u001b[0mself\u001b[0m\u001b[0;34m.\u001b[0m\u001b[0mget_energy\u001b[0m\u001b[0;34m(\u001b[0m\u001b[0;34m)\u001b[0m\u001b[0;34m\u001b[0m\u001b[0;34m\u001b[0m\u001b[0m\n\u001b[0m\u001b[1;32m    109\u001b[0m         \u001b[0mself\u001b[0m\u001b[0;34m.\u001b[0m\u001b[0mxc\u001b[0m \u001b[0;34m=\u001b[0m \u001b[0mself\u001b[0m\u001b[0;34m.\u001b[0m\u001b[0mget_xc\u001b[0m\u001b[0;34m(\u001b[0m\u001b[0;34m)\u001b[0m\u001b[0;34m\u001b[0m\u001b[0;34m\u001b[0m\u001b[0m\n\u001b[1;32m    110\u001b[0m         \u001b[0mself\u001b[0m\u001b[0;34m.\u001b[0m\u001b[0mNAtoms\u001b[0m \u001b[0;34m=\u001b[0m \u001b[0mself\u001b[0m\u001b[0;34m.\u001b[0m\u001b[0mget_NAtoms\u001b[0m\u001b[0;34m(\u001b[0m\u001b[0;34m)\u001b[0m\u001b[0;34m\u001b[0m\u001b[0;34m\u001b[0m\u001b[0m\n",
      "\u001b[0;32m~/PycharmProjects/ThermoPot/BaZrS3/../thermopot/calculations.py\u001b[0m in \u001b[0;36mget_energy\u001b[0;34m(self)\u001b[0m\n\u001b[1;32m    127\u001b[0m             \u001b[0;34m(\u001b[0m\u001b[0mfloat\u001b[0m\u001b[0;34m)\u001b[0m\u001b[0;34m:\u001b[0m \u001b[0mDFT\u001b[0m \u001b[0mtotal\u001b[0m \u001b[0menergy\u001b[0m \u001b[0;32min\u001b[0m \u001b[0meV\u001b[0m\u001b[0;34m\u001b[0m\u001b[0;34m\u001b[0m\u001b[0m\n\u001b[1;32m    128\u001b[0m         \"\"\"\n\u001b[0;32m--> 129\u001b[0;31m         \u001b[0;32mwith\u001b[0m \u001b[0mopen\u001b[0m\u001b[0;34m(\u001b[0m\u001b[0mself\u001b[0m\u001b[0;34m.\u001b[0m\u001b[0mfilepath\u001b[0m\u001b[0;34m)\u001b[0m \u001b[0;32mas\u001b[0m \u001b[0mcontents\u001b[0m\u001b[0;34m:\u001b[0m\u001b[0;34m\u001b[0m\u001b[0;34m\u001b[0m\u001b[0m\n\u001b[0m\u001b[1;32m    130\u001b[0m             return float(\n\u001b[1;32m    131\u001b[0m                 re.findall(\n",
      "\u001b[0;31mFileNotFoundError\u001b[0m: [Errno 2] No such file or directory: '../BaZrS3/raw_aims_files/elemental/S2/hse06/aims.out'"
     ]
    }
   ],
   "source": [
    "S2_calculation = calculations.AimsCalculation(\"../BaZrS3/raw_aims_files/elemental/S2/\",gas=True)"
   ]
  },
  {
   "cell_type": "code",
   "execution_count": null,
   "metadata": {
    "pycharm": {
     "name": "#%%\n"
    }
   },
   "outputs": [],
   "source": [
    "S2 = materials.IdealGas(\"S2\",{'S':2},thermo_file=\"../BaZrS3/nist_janaf/S2.dat\",calculation=S2_calculation)\n",
    "S2_reaction = reactions.Reaction({Ba:2,Zr:2,S2:3},{BaZrS3:2},temperature=T,pressure=P,fu=2)\n",
    "GFE = S2_reaction.Dmu(units=\"kJ\",xc='hse06')\n",
    "GFE.plot_TvsP(scale_range=[-1350, -850])"
   ]
  },
  {
   "cell_type": "markdown",
   "metadata": {
    "pycharm": {
     "name": "#%% md\n"
    }
   },
   "source": [
    "Again, there is agreement here with what would be expected from the CZTS\n",
    "study. For the sulphur gas there is a greater variation with both\n",
    "temperature and pressure. However it is stable in all regimes. In general\n",
    "BaZrS3 shows increased stability compared to CZTS, which is to be expected\n",
    "from previous reports.\n"
   ]
  },
  {
   "cell_type": "markdown",
   "metadata": {
    "pycharm": {
     "name": "#%% md\n"
    }
   },
   "source": [
    "# 8Ba + 8Zr + 3S8 <-> 8BaZrS3"
   ]
  },
  {
   "cell_type": "code",
   "execution_count": null,
   "metadata": {
    "pycharm": {
     "name": "#%%\n"
    }
   },
   "outputs": [],
   "source": [
    "S8_calculation = calculations.AimsCalculation(\"../BaZrS3/raw_aims_files/elemental/S8/hse06_BS/aims.out\",gas=True)"
   ]
  },
  {
   "cell_type": "code",
   "execution_count": null,
   "metadata": {
    "pycharm": {
     "name": "#%%\n"
    }
   },
   "outputs": [],
   "source": [
    "S8 = materials.IdealGas(\"S8\",{'S':8},thermo_file=\"../BaZrS3/nist_janaf/S8\"\n",
    "                                                 \".dat\",\n",
    "                        calculation=S8_calculation)\n",
    "S8_reaction = reactions.Reaction({Ba:8,Zr:8,S8:3},{BaZrS3:8},temperature=T,\n",
    "pressure=P,fu=8)\n",
    "GFE = S8_reaction.Dmu(units=\"kJ\",xc='hse06')\n",
    "GFE.plot_TvsP(scale_range=[-1050, -900])"
   ]
  },
  {
   "cell_type": "markdown",
   "metadata": {
    "pycharm": {
     "name": "#%% md\n"
    }
   },
   "source": [
    "There is again a similar trend as to that seen for CZTS, with a stability that varies more slowly with temperature in an S8 environment.\n",
    "formation is stable even in extreme environments. Stronger pressure dependance at higher temperatures, driven by entropy.\n",
    "\n",
    "\n",
    "It would be nice to understand the different contributions that S2 and S8\n",
    "make to the Gibbs formation energy - perhaps a plot with a breakdown of the\n",
    "U, ST and PV terms would give greater insight."
   ]
  },
  {
   "cell_type": "markdown",
   "metadata": {
    "pycharm": {
     "name": "#%% md\n"
    }
   },
   "source": [
    "# BaS + ZrS2 <-> BaZrS3\n",
    "\n",
    "These are the binaries typically used as Ba is formally a +2 cation and Zr\n",
    "is formally a 4+ cation."
   ]
  },
  {
   "cell_type": "code",
   "execution_count": 11,
   "metadata": {
    "pycharm": {
     "name": "#%%\n"
    }
   },
   "outputs": [],
   "source": [
    "BaS_calc = calculations.AimsCalculation(\"../BaZrS3/raw_aims_files/binary/BaS_Fm-3m/hse06/aims.out\")\n",
    "ZrS2_calc = calculations.AimsCalculation(\"../BaZrS3/raw_aims_files/binary/ZrS2_P-3m1/hse06/aims.out\")\n",
    "BaS = materials.Solid(\"BaS\",{\"Ba\": 1, \"S\": 1},\"../BaZrS3/phonopy_output/BaS_Fm-3m.dat\",calculation=BaS_calc)\n",
    "ZrS2 = materials.Solid(\"ZrS2\",{\"Zr\": 1,\"S\": 2}, \"../BaZrS3/phonopy_output/ZrS2_P-3m1.dat\",calculation=ZrS2_calc)"
   ]
  },
  {
   "cell_type": "code",
   "execution_count": 13,
   "metadata": {
    "pycharm": {
     "name": "#%%\n"
    }
   },
   "outputs": [
    {
     "data": {
      "text/plain": [
       "-0.4105251841247082"
      ]
     },
     "execution_count": 13,
     "metadata": {},
     "output_type": "execute_result"
    }
   ],
   "source": [
    "bulk_reaction = reactions.Reaction({BaS:1,ZrS2:1},{BaZrS3:1},temperature=0,pressure=0)\n",
    "bulk_reaction.DH(units=\"eV\",xc='hse06').potential"
   ]
  },
  {
   "cell_type": "markdown",
   "metadata": {
    "pycharm": {
     "name": "#%% md\n"
    }
   },
   "source": [
    " Previously reported energies are in the range -450 to -200 meV per fu (https://onlinelibrary.wiley.com/doi/full/10.1002/adom.202101704).\n",
    " This could be more accurate value as using SCAN (better description for layered materials?)\n",
    "\n"
   ]
  },
  {
   "cell_type": "markdown",
   "metadata": {
    "pycharm": {
     "name": "#%% md\n"
    }
   },
   "source": [
    "\n",
    "The Jarvis database has carefully converged calculations for layered\n",
    "materials like ZrS2. for convergenve to 0.001eV a 600eV plane wave cutoff was required\n",
    "(https://www.ctcms.nist.gov/~knc6/static/JARVIS-DFT/JVASP-82.xml). This is below the threshold used by some high-throughput codes.\n",
    "\n",
    "Also need to consider the volumes of the starting materials to begin with.\n",
    "\n",
    "OQMD: ZrS2: 23.626 / atom, BaS: 33.483\n",
    "MP: ZrS2: 25.999 / atom, BaS: 33.655\n",
    "Our calcs: ZrS2: 22.24977 / atom, BaS: 31.6276\n",
    "NoMAD: ZrS2: 22.5044 / BaS: 32.09555"
   ]
  },
  {
   "cell_type": "code",
   "execution_count": 14,
   "metadata": {
    "pycharm": {
     "name": "#%%\n"
    }
   },
   "outputs": [
    {
     "data": {
      "text/plain": [
       "{'name': 'ZrS2',\n",
       " 'stoichiometry': {'Zr': 1, 'S': 2},\n",
       " 'energies': {'hse06': -120548.869237983},\n",
       " 'N': 3,\n",
       " 'volume': 66.8308,\n",
       " 'NAtoms': 3,\n",
       " 'fu_cell': 1.0,\n",
       " 'phonon_filepath': '/Users/lucy/PycharmProjects/ThermoPot/BaZrS3/../thermopot/../BaZrS3/phonopy_output/ZrS2_P-3m1.dat'}"
      ]
     },
     "execution_count": 14,
     "metadata": {},
     "output_type": "execute_result"
    }
   ],
   "source": [
    "vars(ZrS2)"
   ]
  },
  {
   "cell_type": "markdown",
   "metadata": {
    "pycharm": {
     "name": "#%% md\n"
    }
   },
   "source": [
    "We expect there to be some discrepancy due to finite temperature\n",
    "effects  (entropy and  volume dependence) and inexact\n",
    "exchange-correlation functions. Our value is not  as close to the\n",
    "experimental value.\n",
    "\n",
    "ZrS2:  -1.993 eV/atom (from the OQMD experimental entry)\n",
    " -1.709 eV/atom (from the OQMD calculated entry)\n",
    "\n",
    "Our calculation is closer to the experimental values.\n"
   ]
  },
  {
   "cell_type": "code",
   "execution_count": 16,
   "metadata": {
    "pycharm": {
     "name": "#%%\n"
    }
   },
   "outputs": [
    {
     "data": {
      "text/plain": [
       "1.7335356533779607"
      ]
     },
     "execution_count": 16,
     "metadata": {},
     "output_type": "execute_result"
    }
   ],
   "source": [
    "ZrS2_reaction = reactions.Reaction({ZrS2:1},{Zr:1,S:2})\n",
    "ZrS2_reaction.DE(xc='hse06') / 3"
   ]
  },
  {
   "cell_type": "markdown",
   "metadata": {
    "pycharm": {
     "name": "#%% md\n"
    }
   },
   "source": [
    "I've reproduced the vasp calculations for BaS+ZrS2 -> BaZrS3 and get a formation energy of 328meV:\n"
   ]
  },
  {
   "cell_type": "markdown",
   "metadata": {
    "pycharm": {
     "name": "#%% md\n"
    }
   },
   "source": []
  },
  {
   "cell_type": "code",
   "execution_count": 17,
   "metadata": {
    "pycharm": {
     "name": "#%%\n"
    }
   },
   "outputs": [
    {
     "data": {
      "text/plain": [
       "-0.3282868850000007"
      ]
     },
     "execution_count": 17,
     "metadata": {},
     "output_type": "execute_result"
    }
   ],
   "source": [
    "(-127.81222203/4) -((-40.74207761/4)+-21.43924922)"
   ]
  },
  {
   "cell_type": "markdown",
   "metadata": {
    "pycharm": {
     "name": "#%% md\n"
    }
   },
   "source": [
    "There is a clear discrepancy in the structures for ZrS2. We calculate a c-axis of 5.86, whilst vasp gives a c-axis of 6.61. Our value is considerably closer to the experimental value of 5.85 (D.L. Greenaway; R. Nitsche (1965)). Another paper also states that the experimental lattice parameters are between 5.81 and 5.86 and uses the revB86b functional for reproducing the experimental lattice parameters (Phonons and Excitons in ZrSe2 - ZrS2 Alloys)."
   ]
  },
  {
   "cell_type": "code",
   "execution_count": 18,
   "metadata": {
    "pycharm": {
     "name": "#%%\n"
    }
   },
   "outputs": [
    {
     "data": {
      "text/plain": [
       "<module 'matplotlib.pyplot' from '/Users/lucy/miniconda3/lib/python3.8/site-packages/matplotlib/pyplot.py'>"
      ]
     },
     "execution_count": 18,
     "metadata": {},
     "output_type": "execute_result"
    },
    {
     "data": {
      "image/png": "[encoded data removed]",
      "text/plain": [
       "<Figure size 432x288 with 2 Axes>"
      ]
     },
     "metadata": {
      "needs_background": "light"
     },
     "output_type": "display_data"
    }
   ],
   "source": [
    "bulk_reaction = reactions.Reaction({BaS:1,ZrS2:1},{BaZrS3:1},temperature=T,\n",
    "                                   pressure=P)\n",
    "GFE = bulk_reaction.Dmu(units=\"kJ\",xc='hse06')\n",
    "GFE.plot_TvsP(scale_range=[-57, -47],precision=\"%.2f\",T_units=\"C\")"
   ]
  },
  {
   "cell_type": "markdown",
   "metadata": {
    "pycharm": {
     "name": "#%% md\n"
    }
   },
   "source": [
    "Chemical accuracy is around 4kJ/mol. So this\n",
    "is telling us that it is stable across all synthesis conditions. However less stable to binary composition compared to other PV materials, such as CZTS (10* more stable).\n",
    "Logical as Binaries are stable compared to their elemental precursors.\n",
    "\n",
    "The interesting thing here is that the material becomes more stable as the\n",
    "temperature increases.\n",
    "\n",
    "Some discussion on whether entropy can stabilise reactants more than\n",
    "products here: https://iopscience.iop.org/article/10.1088/1361-6463/aae1ee/meta\n",
    "\n",
    "Again, could visualise the different contributions to the Gibbs free energy to understand this trend."
   ]
  },
  {
   "cell_type": "markdown",
   "metadata": {
    "pycharm": {
     "name": "#%% md\n"
    }
   },
   "source": [
    "# BaS2 + ZrS <-> BaZrS3"
   ]
  },
  {
   "cell_type": "markdown",
   "metadata": {
    "pycharm": {
     "name": "#%% md\n"
    }
   },
   "source": [
    "Note that we are using the more stable of the ZrS compounds"
   ]
  },
  {
   "cell_type": "code",
   "execution_count": 22,
   "metadata": {
    "pycharm": {
     "name": "#%%\n"
    }
   },
   "outputs": [],
   "source": [
    "BaS2_calc = calculations.AimsCalculation(\"../BaZrS3/raw_aims_files/binary/BaS2_C2_c/hse06/aims.out\")\n",
    "ZrS_calc = calculations.AimsCalculation(\"../BaZrS3/raw_aims_files/binary/ZrS_P4_nmm/hse06/aims.out\")\n",
    "BaS2 = materials.Solid(\"BaS2\",{\"Ba\": 1, \"S\": 2},\".\"\n",
    "                                               \"\"\n",
    "                                               \"./BaZrS3/phonopy_output/BaS2_C2_c.dat\",calculation=BaS2_calc)"
   ]
  },
  {
   "cell_type": "code",
   "execution_count": 23,
   "metadata": {
    "pycharm": {
     "name": "#%%\n"
    }
   },
   "outputs": [
    {
     "data": {
      "text/plain": [
       "{'volume': 69.1306,\n",
       " 'filepath': '../BaZrS3/raw_aims_files/binary/ZrS_P4_nmm/hse06/aims.out',\n",
       " 'energy': -219333.562644649,\n",
       " 'xc': 'hse06',\n",
       " 'NAtoms': 4}"
      ]
     },
     "execution_count": 23,
     "metadata": {},
     "output_type": "execute_result"
    }
   ],
   "source": [
    "vars(ZrS_calc)"
   ]
  },
  {
   "cell_type": "code",
   "execution_count": 27,
   "metadata": {
    "pycharm": {
     "name": "#%%\n"
    }
   },
   "outputs": [],
   "source": [
    "ZrS_calc = calculations.AimsCalculation(\"../BaZrS3/raw_aims_files/binary/ZrS_Fm-3m/hse06/aims.out\")"
   ]
  },
  {
   "cell_type": "code",
   "execution_count": 28,
   "metadata": {
    "pycharm": {
     "name": "#%%\n"
    }
   },
   "outputs": [
    {
     "data": {
      "text/plain": [
       "{'volume': 34.461,\n",
       " 'filepath': '../BaZrS3/raw_aims_files/binary/ZrS_Fm-3m/hse06/aims.out',\n",
       " 'energy': -109666.516663791,\n",
       " 'xc': 'hse06',\n",
       " 'NAtoms': 2}"
      ]
     },
     "execution_count": 28,
     "metadata": {},
     "output_type": "execute_result"
    }
   ],
   "source": [
    "vars(ZrS_calc)"
   ]
  },
  {
   "cell_type": "code",
   "execution_count": 29,
   "metadata": {
    "pycharm": {
     "name": "#%%\n"
    }
   },
   "outputs": [
    {
     "data": {
      "text/plain": [
       "-219333.033327582"
      ]
     },
     "execution_count": 29,
     "metadata": {},
     "output_type": "execute_result"
    }
   ],
   "source": [
    "ZrS_calc.energy*2  # -----> P4_nmn is the more stable so will be the one that we use"
   ]
  },
  {
   "cell_type": "code",
   "execution_count": 32,
   "metadata": {
    "pycharm": {
     "name": "#%%\n"
    }
   },
   "outputs": [],
   "source": [
    "ZrS_calc = calculations.AimsCalculation(\"../BaZrS3/raw_aims_files/binary/ZrS_P4_nmm/hse06/aims.out\")\n",
    "ZrS = materials.Solid(\"ZrS\",{\"Zr\": 1,\"S\": 1}, \".\"\n",
    "                                               \"\"\n",
    "                                              \"./BaZrS3/phonopy_output/ZrS_P4_nmm.dat\",\n",
    "                      calculation=ZrS_calc)"
   ]
  },
  {
   "cell_type": "code",
   "execution_count": 33,
   "metadata": {
    "pycharm": {
     "name": "#%%\n"
    }
   },
   "outputs": [
    {
     "data": {
      "text/plain": [
       "-2.2698102107970044"
      ]
     },
     "execution_count": 33,
     "metadata": {},
     "output_type": "execute_result"
    }
   ],
   "source": [
    "bulk_reaction = reactions.Reaction({BaS2:1,ZrS:1},{BaZrS3:1},temperature=0,\n",
    "                                   pressure=0)\n",
    "bulk_reaction.DH(units=\"eV\",xc='hse06').potential"
   ]
  },
  {
   "cell_type": "code",
   "execution_count": 34,
   "metadata": {
    "pycharm": {
     "name": "#%%\n"
    }
   },
   "outputs": [
    {
     "data": {
      "text/plain": [
       "<module 'matplotlib.pyplot' from '/Users/lucy/miniconda3/lib/python3.8/site-packages/matplotlib/pyplot.py'>"
      ]
     },
     "execution_count": 34,
     "metadata": {},
     "output_type": "execute_result"
    },
    {
     "data": {
      "image/png": "[encoded data removed]",
      "text/plain": [
       "<Figure size 432x288 with 2 Axes>"
      ]
     },
     "metadata": {
      "needs_background": "light"
     },
     "output_type": "display_data"
    }
   ],
   "source": [
    "T = np.linspace(100,1000,100) # K\n",
    "P = np.array( np.logspace(-3,6,100),ndmin=2).transpose() # Pa\n",
    "bulk_reaction = reactions.Reaction({BaS2:1,ZrS:1},{BaZrS3:1},temperature=T, pressure=P)\n",
    "GFE = bulk_reaction.Dmu(units=\"kJ\",xc='hse06')\n",
    "GFE.plot_TvsP(scale_range=[-234, -229])"
   ]
  },
  {
   "cell_type": "markdown",
   "metadata": {
    "pycharm": {
     "name": "#%% md\n"
    }
   },
   "source": [
    "Much more stable compared to these less stable reactants....possible suggestion for synthesis route??"
   ]
  },
  {
   "cell_type": "markdown",
   "metadata": {
    "pycharm": {
     "name": "#%% md\n"
    }
   },
   "source": [
    "# 2BaS + 2ZrS + S2 <-> 2BaZrS3\n"
   ]
  },
  {
   "cell_type": "code",
   "execution_count": 35,
   "metadata": {
    "pycharm": {
     "name": "#%%\n"
    }
   },
   "outputs": [
    {
     "ename": "NameError",
     "evalue": "name 'S2' is not defined",
     "output_type": "error",
     "traceback": [
      "\u001b[0;31m---------------------------------------------------------------------------\u001b[0m",
      "\u001b[0;31mNameError\u001b[0m                                 Traceback (most recent call last)",
      "\u001b[0;32m<ipython-input-35-aa39ba0d02df>\u001b[0m in \u001b[0;36m<module>\u001b[0;34m\u001b[0m\n\u001b[0;32m----> 1\u001b[0;31m S2_binary_reaction = reactions.Reaction({BaS:2,ZrS:2,S2:1},{BaZrS3:2},\n\u001b[0m\u001b[1;32m      2\u001b[0m                                        temperature=T, pressure=P,fu=2)\n\u001b[1;32m      3\u001b[0m \u001b[0mGFE\u001b[0m \u001b[0;34m=\u001b[0m \u001b[0mS2_binary_reaction\u001b[0m\u001b[0;34m.\u001b[0m\u001b[0mDmu\u001b[0m\u001b[0;34m(\u001b[0m\u001b[0munits\u001b[0m\u001b[0;34m=\u001b[0m\u001b[0;34m\"kJ\"\u001b[0m\u001b[0;34m,\u001b[0m\u001b[0mxc\u001b[0m\u001b[0;34m=\u001b[0m\u001b[0;34m'hse06'\u001b[0m\u001b[0;34m)\u001b[0m\u001b[0;34m\u001b[0m\u001b[0;34m\u001b[0m\u001b[0m\n\u001b[1;32m      4\u001b[0m \u001b[0mGFE\u001b[0m\u001b[0;34m.\u001b[0m\u001b[0mplot_TvsP\u001b[0m\u001b[0;34m(\u001b[0m\u001b[0mscale_range\u001b[0m\u001b[0;34m=\u001b[0m\u001b[0;34m[\u001b[0m\u001b[0;34m-\u001b[0m\u001b[0;36m340\u001b[0m\u001b[0;34m,\u001b[0m \u001b[0;34m-\u001b[0m\u001b[0;36m200\u001b[0m\u001b[0;34m]\u001b[0m\u001b[0;34m)\u001b[0m\u001b[0;34m\u001b[0m\u001b[0;34m\u001b[0m\u001b[0m\n",
      "\u001b[0;31mNameError\u001b[0m: name 'S2' is not defined"
     ]
    }
   ],
   "source": [
    "S2_binary_reaction = reactions.Reaction({BaS:2,ZrS:2,S2:1},{BaZrS3:2},\n",
    "                                       temperature=T, pressure=P,fu=2)\n",
    "GFE = S2_binary_reaction.Dmu(units=\"kJ\",xc='hse06')\n",
    "GFE.plot_TvsP(scale_range=[-340, -200])"
   ]
  },
  {
   "cell_type": "markdown",
   "metadata": {
    "pycharm": {
     "name": "#%% md\n"
    }
   },
   "source": [
    " Note that at high-T\n",
    "sulphur gas is more likely found in the S2 allotrope (so at high T this\n",
    "gives a better picture of the energetics when compared to S8)."
   ]
  },
  {
   "cell_type": "markdown",
   "metadata": {
    "pycharm": {
     "name": "#%% md\n"
    }
   },
   "source": [
    "# 8BaS + 8ZrS + S8 <-> 8BaZrS3"
   ]
  },
  {
   "cell_type": "code",
   "execution_count": 36,
   "metadata": {
    "pycharm": {
     "name": "#%%\n"
    }
   },
   "outputs": [
    {
     "ename": "NameError",
     "evalue": "name 'S8' is not defined",
     "output_type": "error",
     "traceback": [
      "\u001b[0;31m---------------------------------------------------------------------------\u001b[0m",
      "\u001b[0;31mNameError\u001b[0m                                 Traceback (most recent call last)",
      "\u001b[0;32m<ipython-input-36-3df25139e86c>\u001b[0m in \u001b[0;36m<module>\u001b[0;34m\u001b[0m\n\u001b[0;32m----> 1\u001b[0;31m S8_binary_reaction = reactions.Reaction({BaS:8,ZrS:8,S8:1},{BaZrS3:8},\n\u001b[0m\u001b[1;32m      2\u001b[0m                                        temperature=T, pressure=P,fu=8)\n\u001b[1;32m      3\u001b[0m \u001b[0mGFE\u001b[0m \u001b[0;34m=\u001b[0m \u001b[0mS8_binary_reaction\u001b[0m\u001b[0;34m.\u001b[0m\u001b[0mDmu\u001b[0m\u001b[0;34m(\u001b[0m\u001b[0munits\u001b[0m\u001b[0;34m=\u001b[0m\u001b[0;34m\"kJ\"\u001b[0m\u001b[0;34m,\u001b[0m\u001b[0mxc\u001b[0m\u001b[0;34m=\u001b[0m\u001b[0;34m'hse06'\u001b[0m\u001b[0;34m)\u001b[0m\u001b[0;34m\u001b[0m\u001b[0;34m\u001b[0m\u001b[0m\n\u001b[1;32m      4\u001b[0m \u001b[0mGFE\u001b[0m\u001b[0;34m.\u001b[0m\u001b[0mplot_TvsP\u001b[0m\u001b[0;34m(\u001b[0m\u001b[0mscale_range\u001b[0m\u001b[0;34m=\u001b[0m\u001b[0;34m[\u001b[0m\u001b[0;34m-\u001b[0m\u001b[0;36m245\u001b[0m\u001b[0;34m,\u001b[0m \u001b[0;34m-\u001b[0m\u001b[0;36m215\u001b[0m\u001b[0;34m]\u001b[0m\u001b[0;34m)\u001b[0m\u001b[0;34m\u001b[0m\u001b[0;34m\u001b[0m\u001b[0m\n",
      "\u001b[0;31mNameError\u001b[0m: name 'S8' is not defined"
     ]
    }
   ],
   "source": [
    "S8_binary_reaction = reactions.Reaction({BaS:8,ZrS:8,S8:1},{BaZrS3:8},\n",
    "                                       temperature=T, pressure=P,fu=8)\n",
    "GFE = S8_binary_reaction.Dmu(units=\"kJ\",xc='hse06')\n",
    "GFE.plot_TvsP(scale_range=[-245, -215])"
   ]
  },
  {
   "cell_type": "markdown",
   "metadata": {
    "pycharm": {
     "name": "#%% md\n"
    }
   },
   "source": [
    "These results are consistent with the findings for decomposition into S8 and\n",
    " elemental phases. Similar behaviour to S2 but with lesser sensitivity to\n",
    " the T,P conditions."
   ]
  },
  {
   "cell_type": "markdown",
   "metadata": {
    "pycharm": {
     "name": "#%% md\n"
    }
   },
   "source": [
    "# ZrS (Fm-3m) <-> ZrS (P4nmm)"
   ]
  },
  {
   "cell_type": "code",
   "execution_count": 37,
   "metadata": {
    "pycharm": {
     "name": "#%%\n"
    }
   },
   "outputs": [],
   "source": [
    "ZrS_P4nmm = materials.Solid(\"ZrS\",{\"Zr\": 1,\"S\": 1}, \".\"\n",
    "                                               \"\"\n",
    "                                              \"./BaZrS3/phonopy_output/ZrS_P4_nmm.dat\",\n",
    "                      calculation=ZrS_calc)\n",
    "ZrS_Fm3m_calc = calculations.AimsCalculation(\"../BaZrS3/raw_aims_files/binary/ZrS_Fm-3m/hse06/aims.out\")\n",
    "ZrS_Fm3m = materials.Solid(\"ZrS\",{\"Zr\": 1,\"S\": 1}, \".\"\n",
    "                                               \"\"\n",
    "                                              \"./BaZrS3/phonopy_output/ZrS_Fm-3m.dat\",\n",
    "                      calculation=ZrS_Fm3m_calc)"
   ]
  },
  {
   "cell_type": "code",
   "execution_count": 38,
   "metadata": {
    "pycharm": {
     "name": "#%%\n"
    }
   },
   "outputs": [],
   "source": [
    "ZrS_reaction = reactions.Reaction({ZrS_Fm3m:1},{ZrS_P4nmm:1},\n",
    "                                       temperature=T, pressure=P,fu=1)"
   ]
  },
  {
   "cell_type": "code",
   "execution_count": 39,
   "metadata": {
    "pycharm": {
     "name": "#%%\n"
    }
   },
   "outputs": [
    {
     "data": {
      "text/plain": [
       "<module 'matplotlib.pyplot' from '/Users/lucy/miniconda3/lib/python3.8/site-packages/matplotlib/pyplot.py'>"
      ]
     },
     "execution_count": 39,
     "metadata": {},
     "output_type": "execute_result"
    },
    {
     "data": {
      "image/png": "[encoded data removed]",
      "text/plain": [
       "<Figure size 432x288 with 2 Axes>"
      ]
     },
     "metadata": {
      "needs_background": "light"
     },
     "output_type": "display_data"
    }
   ],
   "source": [
    "GFE = ZrS_reaction.Dmu(units=\"kJ\",xc='hse06')\n",
    "GFE.plot_TvsP(scale_range=[-29, -19])"
   ]
  },
  {
   "cell_type": "markdown",
   "metadata": {
    "pycharm": {
     "name": "#%% md\n"
    }
   },
   "source": [
    "At all temperatures the ZrS_P4nmm polymorph is more stable."
   ]
  },
  {
   "cell_type": "markdown",
   "metadata": {
    "pycharm": {
     "name": "#%% md\n"
    }
   },
   "source": [
    "# Ba3Zr2S7 + ZrS2 <-> 3BaZrS3"
   ]
  },
  {
   "cell_type": "code",
   "execution_count": 40,
   "metadata": {
    "pycharm": {
     "name": "#%%\n"
    }
   },
   "outputs": [
    {
     "data": {
      "text/plain": [
       "{'volume': 621.828,\n",
       " 'filepath': '../BaZrS3/raw_aims_files/ternary/Ba3Zr2S7_Cmmm/hse06/aims.out',\n",
       " 'energy': -1898407.644060812,\n",
       " 'xc': 'hse06',\n",
       " 'NAtoms': 24}"
      ]
     },
     "execution_count": 40,
     "metadata": {},
     "output_type": "execute_result"
    }
   ],
   "source": [
    "Ba3Zr2S7_calc_Cmmm = calculations.AimsCalculation(\"../BaZrS3/raw_aims_files/ternary/Ba3Zr2S7_Cmmm/hse06/aims.out\")\n",
    "vars(Ba3Zr2S7_calc_Cmmm )"
   ]
  },
  {
   "cell_type": "code",
   "execution_count": 41,
   "metadata": {
    "pycharm": {
     "name": "#%%\n"
    }
   },
   "outputs": [
    {
     "data": {
      "text/plain": [
       "-1898407.62029155"
      ]
     },
     "execution_count": 41,
     "metadata": {},
     "output_type": "execute_result"
    }
   ],
   "source": [
    "Ba3Zr2S7_calc_I4 = calculations.AimsCalculation(\"../BaZrS3/raw_aims_files/ternary/Ba3Zr2S7_I4_mmm/hse06/aims.out\")\n",
    "Ba3Zr2S7_calc_I4.energy*2"
   ]
  },
  {
   "cell_type": "code",
   "execution_count": 42,
   "metadata": {
    "pycharm": {
     "name": "#%%\n"
    }
   },
   "outputs": [
    {
     "data": {
      "text/plain": [
       "-1898407.8597595175"
      ]
     },
     "execution_count": 42,
     "metadata": {},
     "output_type": "execute_result"
    }
   ],
   "source": [
    "Ba3Zr2S7_calc_P42 = calculations.AimsCalculation(\"../BaZrS3/raw_aims_files/ternary/Ba3Zr2S7_P42_mnm/hse06/aims.out\")\n",
    "Ba3Zr2S7_calc_P42.energy/2"
   ]
  },
  {
   "cell_type": "markdown",
   "metadata": {
    "pycharm": {
     "name": "#%% md\n"
    }
   },
   "source": [
    "These are all very close in energy - 5 meV per atom!!!"
   ]
  },
  {
   "cell_type": "code",
   "execution_count": 43,
   "metadata": {
    "pycharm": {
     "name": "#%%\n"
    }
   },
   "outputs": [
    {
     "data": {
      "text/plain": [
       "-0.005968222685623914"
      ]
     },
     "execution_count": 43,
     "metadata": {},
     "output_type": "execute_result"
    }
   ],
   "source": [
    "(-1898664.2125250294--1898664.069287685 )/24"
   ]
  },
  {
   "cell_type": "code",
   "execution_count": 44,
   "metadata": {
    "pycharm": {
     "name": "#%%\n"
    }
   },
   "outputs": [],
   "source": [
    "Ba3Zr2S7 = materials.Solid(\"Ba3Zr2S7\",{\"Ba\": 3,\"Zr\": 2,\"S\":7},\n",
    "                           \"../BaZrS3/phonopy_output/Ba3Zr2S7_P4_2_mnm.dat\",\n",
    "                           calculation=Ba3Zr2S7_calc_P42)"
   ]
  },
  {
   "cell_type": "code",
   "execution_count": 45,
   "metadata": {
    "pycharm": {
     "name": "#%%\n"
    }
   },
   "outputs": [],
   "source": [
    "ternary_reaction = reactions.Reaction({Ba3Zr2S7:1,ZrS2:1},{BaZrS3:3},\n",
    "                                      temperature=T, pressure=P, fu=3)"
   ]
  },
  {
   "cell_type": "code",
   "execution_count": 46,
   "metadata": {
    "pycharm": {
     "name": "#%%\n"
    }
   },
   "outputs": [
    {
     "data": {
      "text/plain": [
       "<module 'matplotlib.pyplot' from '/Users/lucy/miniconda3/lib/python3.8/site-packages/matplotlib/pyplot.py'>"
      ]
     },
     "execution_count": 46,
     "metadata": {},
     "output_type": "execute_result"
    },
    {
     "data": {
      "image/png": "[encoded data removed]",
      "text/plain": [
       "<Figure size 432x288 with 2 Axes>"
      ]
     },
     "metadata": {
      "needs_background": "light"
     },
     "output_type": "display_data"
    }
   ],
   "source": [
    "GFE = ternary_reaction.Dmu(units=\"kJ\",xc='hse06')\n",
    "GFE.plot_TvsP(scale_range=[-15, -12])"
   ]
  },
  {
   "cell_type": "markdown",
   "metadata": {
    "pycharm": {
     "name": "#%% md\n"
    }
   },
   "source": [
    "This is a relatively small GFE now. Perhaps a QHA calculation would push it over tipping point into perovskite being unstable, as the ZrS2 probably has a large expansion coefficient."
   ]
  },
  {
   "cell_type": "markdown",
   "metadata": {
    "pycharm": {
     "name": "#%% md\n"
    }
   },
   "source": [
    "# TODO: look at GFE for the other 327 phases"
   ]
  },
  {
   "cell_type": "code",
   "execution_count": null,
   "metadata": {
    "pycharm": {
     "name": "#%%\n"
    }
   },
   "outputs": [],
   "source": [
    "#Ba3Zr2S7 = materials.Solid(\"Ba3Zr2S7\",{\"Ba\": 3,\"Zr\": 2,\"S\":7},\n",
    "#                           \"../BaZrS3/phonopy_output/\",\n",
    "#                           calculation=Ba3Zr2S7_calc_P42)\n",
    "#ternary_reaction = reactions.Reaction({Ba3Zr2S7:1,ZrS2:1},{BaZrS3:3},\n",
    "#                                      temperature=T, pressure=P, fu=3)\n",
    "#GFE = ternary_reaction.Dmu(units=\"kJ\",xc='scan')\n",
    "#GFE.plot_TvsP(scale_range=[-15, -12])"
   ]
  },
  {
   "cell_type": "markdown",
   "metadata": {
    "pycharm": {
     "name": "#%% md\n"
    }
   },
   "source": [
    "# Ba3Zr2S7 + ZrS + 0.5S2 <-> 3BaZrS3"
   ]
  },
  {
   "cell_type": "code",
   "execution_count": 47,
   "metadata": {
    "pycharm": {
     "name": "#%%\n"
    }
   },
   "outputs": [
    {
     "ename": "NameError",
     "evalue": "name 'S2' is not defined",
     "output_type": "error",
     "traceback": [
      "\u001b[0;31m---------------------------------------------------------------------------\u001b[0m",
      "\u001b[0;31mNameError\u001b[0m                                 Traceback (most recent call last)",
      "\u001b[0;32m<ipython-input-47-31bcd5507d7c>\u001b[0m in \u001b[0;36m<module>\u001b[0;34m\u001b[0m\n\u001b[0;32m----> 1\u001b[0;31m \u001b[0mreaction\u001b[0m \u001b[0;34m=\u001b[0m \u001b[0mreactions\u001b[0m\u001b[0;34m.\u001b[0m\u001b[0mReaction\u001b[0m\u001b[0;34m(\u001b[0m\u001b[0;34m{\u001b[0m\u001b[0mBa3Zr2S7\u001b[0m\u001b[0;34m:\u001b[0m\u001b[0;36m1\u001b[0m\u001b[0;34m,\u001b[0m\u001b[0mZrS\u001b[0m\u001b[0;34m:\u001b[0m\u001b[0;36m1\u001b[0m\u001b[0;34m,\u001b[0m\u001b[0mS2\u001b[0m\u001b[0;34m:\u001b[0m\u001b[0;36m0.5\u001b[0m\u001b[0;34m}\u001b[0m\u001b[0;34m,\u001b[0m\u001b[0;34m{\u001b[0m\u001b[0mBaZrS3\u001b[0m\u001b[0;34m:\u001b[0m\u001b[0;36m3\u001b[0m\u001b[0;34m}\u001b[0m\u001b[0;34m,\u001b[0m\u001b[0mtemperature\u001b[0m\u001b[0;34m=\u001b[0m\u001b[0mT\u001b[0m\u001b[0;34m,\u001b[0m \u001b[0mpressure\u001b[0m\u001b[0;34m=\u001b[0m\u001b[0mP\u001b[0m\u001b[0;34m,\u001b[0m \u001b[0mfu\u001b[0m\u001b[0;34m=\u001b[0m\u001b[0;36m3\u001b[0m\u001b[0;34m)\u001b[0m\u001b[0;34m\u001b[0m\u001b[0;34m\u001b[0m\u001b[0m\n\u001b[0m\u001b[1;32m      2\u001b[0m \u001b[0mGFE\u001b[0m \u001b[0;34m=\u001b[0m \u001b[0mreaction\u001b[0m\u001b[0;34m.\u001b[0m\u001b[0mDmu\u001b[0m\u001b[0;34m(\u001b[0m\u001b[0munits\u001b[0m\u001b[0;34m=\u001b[0m\u001b[0;34m\"kJ\"\u001b[0m\u001b[0;34m,\u001b[0m\u001b[0mxc\u001b[0m\u001b[0;34m=\u001b[0m\u001b[0;34m'hse06'\u001b[0m\u001b[0;34m)\u001b[0m\u001b[0;34m\u001b[0m\u001b[0;34m\u001b[0m\u001b[0m\n\u001b[1;32m      3\u001b[0m \u001b[0mGFE\u001b[0m\u001b[0;34m.\u001b[0m\u001b[0mplot_TvsP\u001b[0m\u001b[0;34m(\u001b[0m\u001b[0mscale_range\u001b[0m\u001b[0;34m=\u001b[0m\u001b[0;34m[\u001b[0m\u001b[0;34m-\u001b[0m\u001b[0;36m110\u001b[0m\u001b[0;34m,\u001b[0m \u001b[0;34m-\u001b[0m\u001b[0;36m60\u001b[0m\u001b[0;34m]\u001b[0m\u001b[0;34m)\u001b[0m\u001b[0;34m\u001b[0m\u001b[0;34m\u001b[0m\u001b[0m\n",
      "\u001b[0;31mNameError\u001b[0m: name 'S2' is not defined"
     ]
    }
   ],
   "source": [
    "reaction = reactions.Reaction({Ba3Zr2S7:1,ZrS:1,S2:0.5},{BaZrS3:3},temperature=T, pressure=P, fu=3)\n",
    "GFE = reaction.Dmu(units=\"kJ\",xc='hse06')\n",
    "GFE.plot_TvsP(scale_range=[-110, -60])"
   ]
  },
  {
   "cell_type": "markdown",
   "metadata": {
    "pycharm": {
     "name": "#%% md\n"
    }
   },
   "source": [
    "Degradation into the RP phase isn't reported however it is expected that\n",
    "there would be significant kinetic barriers for forming this phase.\n",
    "\n"
   ]
  },
  {
   "cell_type": "markdown",
   "metadata": {
    "pycharm": {
     "name": "#%% md\n"
    }
   },
   "source": [
    "# Ba3Zr2S7  <-> 3BaS + 2ZrS +S2"
   ]
  },
  {
   "cell_type": "code",
   "execution_count": null,
   "metadata": {
    "pycharm": {
     "name": "#%%\n"
    }
   },
   "outputs": [],
   "source": [
    "ternary_gas_reaction = reactions.Reaction({Ba3Zr2S7:1},{BaS:3,ZrS:2,S2:1},\n",
    "                                      temperature=T, pressure=P, fu=1)\n",
    "GFE = ternary_gas_reaction.Dmu(units=\"kJ\",xc='pbesol')\n",
    "GFE.plot_TvsP(scale_range=[650, 400])"
   ]
  },
  {
   "cell_type": "markdown",
   "metadata": {
    "pycharm": {
     "name": "#%% md\n"
    }
   },
   "source": [
    "#  2BaZrS3 <-> Ba2ZrS4 + ZrS2"
   ]
  },
  {
   "cell_type": "code",
   "execution_count": 48,
   "metadata": {
    "pycharm": {
     "name": "#%%\n"
    }
   },
   "outputs": [
    {
     "data": {
      "text/plain": [
       "<module 'matplotlib.pyplot' from '/Users/lucy/miniconda3/lib/python3.8/site-packages/matplotlib/pyplot.py'>"
      ]
     },
     "execution_count": 48,
     "metadata": {},
     "output_type": "execute_result"
    },
    {
     "data": {
      "image/png": "[encoded data removed]",
      "text/plain": [
       "<Figure size 432x288 with 2 Axes>"
      ]
     },
     "metadata": {
      "needs_background": "light"
     },
     "output_type": "display_data"
    }
   ],
   "source": [
    "Ba2Zr1S4_calc = calculations.AimsCalculation(\"../BaZrS3/raw_aims_files/ternary/Ba2ZrS4_I4_mmm/hse06/aims.out\")\n",
    "Ba2Zr1S4 = materials.Solid(\"Ba2Zr1S4\",{\"Ba\": 2,\"Zr\": 1,\"S\":4}, \"../BaZrS3/phonopy_output/Ba2ZrS4_I4_mmm.dat\", calculation=Ba2Zr1S4_calc)\n",
    "ternary_reaction = reactions.Reaction({BaZrS3:2},{Ba2Zr1S4:1,ZrS2:1},\n",
    "                                      temperature=T, pressure=P, fu=2)\n",
    "GFE = ternary_reaction.Dmu(units=\"kJ\",xc='hse06')\n",
    "GFE.plot_TvsP(scale_range=[16,21])"
   ]
  },
  {
   "cell_type": "markdown",
   "metadata": {
    "pycharm": {
     "name": "#%% md\n"
    }
   },
   "source": [
    "#  2BaZrS3 <-> Ba2ZrS4 + ZrS + 0.5S2"
   ]
  },
  {
   "cell_type": "code",
   "execution_count": 49,
   "metadata": {
    "pycharm": {
     "name": "#%%\n"
    }
   },
   "outputs": [
    {
     "ename": "NameError",
     "evalue": "name 'S2' is not defined",
     "output_type": "error",
     "traceback": [
      "\u001b[0;31m---------------------------------------------------------------------------\u001b[0m",
      "\u001b[0;31mNameError\u001b[0m                                 Traceback (most recent call last)",
      "\u001b[0;32m<ipython-input-49-b6751fcd1db5>\u001b[0m in \u001b[0;36m<module>\u001b[0;34m\u001b[0m\n\u001b[0;32m----> 1\u001b[0;31m \u001b[0mreaction\u001b[0m \u001b[0;34m=\u001b[0m \u001b[0mreactions\u001b[0m\u001b[0;34m.\u001b[0m\u001b[0mReaction\u001b[0m\u001b[0;34m(\u001b[0m\u001b[0;34m{\u001b[0m\u001b[0mBa2Zr1S4\u001b[0m\u001b[0;34m:\u001b[0m\u001b[0;36m1\u001b[0m\u001b[0;34m,\u001b[0m\u001b[0mZrS\u001b[0m\u001b[0;34m:\u001b[0m\u001b[0;36m1\u001b[0m\u001b[0;34m,\u001b[0m\u001b[0mS2\u001b[0m\u001b[0;34m:\u001b[0m\u001b[0;36m0.5\u001b[0m\u001b[0;34m}\u001b[0m\u001b[0;34m,\u001b[0m\u001b[0;34m{\u001b[0m\u001b[0mBaZrS3\u001b[0m\u001b[0;34m:\u001b[0m\u001b[0;36m2\u001b[0m\u001b[0;34m}\u001b[0m\u001b[0;34m,\u001b[0m\u001b[0mtemperature\u001b[0m\u001b[0;34m=\u001b[0m\u001b[0mT\u001b[0m\u001b[0;34m,\u001b[0m \u001b[0mpressure\u001b[0m\u001b[0;34m=\u001b[0m\u001b[0mP\u001b[0m\u001b[0;34m,\u001b[0m \u001b[0mfu\u001b[0m\u001b[0;34m=\u001b[0m\u001b[0;36m2\u001b[0m\u001b[0;34m)\u001b[0m\u001b[0;34m\u001b[0m\u001b[0;34m\u001b[0m\u001b[0m\n\u001b[0m\u001b[1;32m      2\u001b[0m \u001b[0mGFE\u001b[0m \u001b[0;34m=\u001b[0m \u001b[0mreaction\u001b[0m\u001b[0;34m.\u001b[0m\u001b[0mDmu\u001b[0m\u001b[0;34m(\u001b[0m\u001b[0munits\u001b[0m\u001b[0;34m=\u001b[0m\u001b[0;34m\"kJ\"\u001b[0m\u001b[0;34m,\u001b[0m\u001b[0mxc\u001b[0m\u001b[0;34m=\u001b[0m\u001b[0;34m'hse06'\u001b[0m\u001b[0;34m)\u001b[0m\u001b[0;34m\u001b[0m\u001b[0;34m\u001b[0m\u001b[0m\n\u001b[1;32m      3\u001b[0m \u001b[0mGFE\u001b[0m\u001b[0;34m.\u001b[0m\u001b[0mplot_TvsP\u001b[0m\u001b[0;34m(\u001b[0m\u001b[0mscale_range\u001b[0m\u001b[0;34m=\u001b[0m\u001b[0;34m[\u001b[0m\u001b[0;34m-\u001b[0m\u001b[0;36m160\u001b[0m\u001b[0;34m,\u001b[0m \u001b[0;34m-\u001b[0m\u001b[0;36m90\u001b[0m\u001b[0;34m]\u001b[0m\u001b[0;34m)\u001b[0m\u001b[0;34m\u001b[0m\u001b[0;34m\u001b[0m\u001b[0m\n",
      "\u001b[0;31mNameError\u001b[0m: name 'S2' is not defined"
     ]
    }
   ],
   "source": [
    "reaction = reactions.Reaction({Ba2Zr1S4:1,ZrS:1,S2:0.5},{BaZrS3:2},temperature=T, pressure=P, fu=2)\n",
    "GFE = reaction.Dmu(units=\"kJ\",xc='hse06')\n",
    "GFE.plot_TvsP(scale_range=[-160, -90])"
   ]
  },
  {
   "cell_type": "markdown",
   "metadata": {
    "pycharm": {
     "name": "#%% md\n"
    }
   },
   "source": [
    "# BaS + S2 <-> BaS3"
   ]
  },
  {
   "cell_type": "code",
   "execution_count": null,
   "metadata": {
    "pycharm": {
     "name": "#%%\n"
    }
   },
   "outputs": [],
   "source": [
    "BaS3_calc = calculations.AimsCalculation(\"../BaZrS3/raw_aims_files/binary/BaS3_P-421m/pbesol/aims.out\")\n",
    "BaS3 = materials.Solid(\"BaS3\",{\"Ba\": 1,\"S\":3},\n",
    "                           \"../BaZrS3/phonopy_output/BaS3_P-42_1m.dat\",\n",
    "                           calculation=BaS3_calc)"
   ]
  },
  {
   "cell_type": "code",
   "execution_count": null,
   "metadata": {
    "pycharm": {
     "name": "#%%\n"
    }
   },
   "outputs": [],
   "source": [
    "\n",
    "T = np.linspace(823, 863, 100)  # K\n",
    "P = np.array(np.linspace(0.1, 5, 100), ndmin=2).transpose()  # Pa\n",
    "Ba_S_reaction = reactions.Reaction({BaS:1,S2:1},{BaS3:1},temperature=T,\n",
    "                                   pressure=P)\n",
    "GFE = Ba_S_reaction.Dmu(units=\"kJ\",xc='pbesol')\n",
    "GFE.plot_TvsP(log_scale=False)"
   ]
  },
  {
   "cell_type": "markdown",
   "metadata": {
    "pycharm": {
     "name": "#%% md\n"
    }
   },
   "source": [
    "Ok, so this is interesting! BaS3 is formed below ~700K. Above\n",
    "this value it is not energetically favourable to form BaS3.\n",
    "\n",
    "This results corresponds EXACTLY with what shown by Comparetto et al. Yay!\n",
    "They have temperature of 590 degrees C, and see best when 2-4Pa range.\n",
    "\n",
    "Another thing to note is that BaS3 has a melting point of 554 °C (827K). If at 827, the sulfur partial pressure must be high to form BaS.\n",
    "\n",
    "As we increase the partial pressure of sulphur the formation of BaS3 becomes\n",
    "more favourable."
   ]
  },
  {
   "cell_type": "markdown",
   "metadata": {
    "pycharm": {
     "name": "#%% md\n"
    }
   },
   "source": [
    "# 4BaS + S8 <-> 4BaS3"
   ]
  },
  {
   "cell_type": "code",
   "execution_count": null,
   "metadata": {
    "pycharm": {
     "name": "#%%\n"
    }
   },
   "outputs": [],
   "source": [
    "Ba_S_reaction = reactions.Reaction({BaS:4,S8:1},{BaS3:4},temperature=T,\n",
    "                                   pressure=P,fu=4)\n",
    "GFE = Ba_S_reaction.Dmu(units=\"kJ\",xc='pbesol')\n",
    "GFE.plot_TvsP()"
   ]
  },
  {
   "cell_type": "markdown",
   "metadata": {
    "pycharm": {
     "name": "#%% md\n"
    }
   },
   "source": [
    "# 2Ba + 3S2 <-> 2BaS3\n",
    "\n"
   ]
  },
  {
   "cell_type": "code",
   "execution_count": null,
   "metadata": {
    "pycharm": {
     "name": "#%%\n"
    }
   },
   "outputs": [],
   "source": [
    "Ba_S_reaction = reactions.Reaction({Ba: 2, S2: 3}, {BaS3: 2}, temperature=T,\n",
    "                                   pressure=P,fu=2)\n",
    "GFE = Ba_S_reaction.Dmu(units=\"kJ\",xc='pbesol')\n",
    "GFE.plot_TvsP()"
   ]
  },
  {
   "cell_type": "markdown",
   "metadata": {
    "pycharm": {
     "name": "#%% md\n"
    }
   },
   "source": [
    "# 8Ba + 3S8 <-> 8BaS3"
   ]
  },
  {
   "cell_type": "code",
   "execution_count": null,
   "metadata": {
    "pycharm": {
     "name": "#%%\n"
    }
   },
   "outputs": [],
   "source": [
    "Ba_S_reaction = reactions.Reaction({Ba: 8, S8: 3}, {BaS3: 8}, temperature=T,\n",
    "                                   pressure=P,fu=8)\n",
    "GFE = Ba_S_reaction.Dmu(units=\"kJ\",xc='pbesol')\n",
    "GFE.plot_TvsP()"
   ]
  },
  {
   "cell_type": "markdown",
   "metadata": {
    "pycharm": {
     "name": "#%% md\n"
    }
   },
   "source": [
    "# Competing phases for the Ba-S system\n",
    "\n",
    "Using S8 for comparison with Scragg results\n",
    "\n",
    "8Ba + 3S8 could form:\n",
    "- 8BaS + 2S8\n",
    "- 8BaS2 + S8\n",
    "- 8BaS3\n",
    "\n",
    "or\n",
    "\n",
    "2Ba + 3S2 could form:\n",
    "\n",
    "- 2BaS + 2S2\n",
    "- 2BaS2 + S2\n",
    "- 2BaS3"
   ]
  },
  {
   "cell_type": "code",
   "execution_count": 50,
   "metadata": {
    "pycharm": {
     "name": "#%%\n"
    }
   },
   "outputs": [
    {
     "ename": "NameError",
     "evalue": "name 'S2' is not defined",
     "output_type": "error",
     "traceback": [
      "\u001b[0;31m---------------------------------------------------------------------------\u001b[0m",
      "\u001b[0;31mNameError\u001b[0m                                 Traceback (most recent call last)",
      "\u001b[0;32m<ipython-input-50-b88ba9cb637b>\u001b[0m in \u001b[0;36m<module>\u001b[0;34m\u001b[0m\n\u001b[1;32m      2\u001b[0m \u001b[0mP\u001b[0m \u001b[0;34m=\u001b[0m \u001b[0mnp\u001b[0m\u001b[0;34m.\u001b[0m\u001b[0marray\u001b[0m\u001b[0;34m(\u001b[0m\u001b[0mnp\u001b[0m\u001b[0;34m.\u001b[0m\u001b[0mlogspace\u001b[0m\u001b[0;34m(\u001b[0m\u001b[0;34m-\u001b[0m\u001b[0;36m2\u001b[0m\u001b[0;34m,\u001b[0m \u001b[0;36m4\u001b[0m\u001b[0;34m,\u001b[0m \u001b[0;36m100\u001b[0m\u001b[0;34m)\u001b[0m\u001b[0;34m,\u001b[0m \u001b[0mndmin\u001b[0m\u001b[0;34m=\u001b[0m\u001b[0;36m2\u001b[0m\u001b[0;34m)\u001b[0m\u001b[0;34m.\u001b[0m\u001b[0mtranspose\u001b[0m\u001b[0;34m(\u001b[0m\u001b[0;34m)\u001b[0m  \u001b[0;31m# Pa\u001b[0m\u001b[0;34m\u001b[0m\u001b[0;34m\u001b[0m\u001b[0m\n\u001b[1;32m      3\u001b[0m \u001b[0;34m\u001b[0m\u001b[0m\n\u001b[0;32m----> 4\u001b[0;31m \u001b[0mBaS_reaction\u001b[0m \u001b[0;34m=\u001b[0m \u001b[0mreactions\u001b[0m\u001b[0;34m.\u001b[0m\u001b[0mReaction\u001b[0m\u001b[0;34m(\u001b[0m\u001b[0;34m{\u001b[0m\u001b[0mBa\u001b[0m\u001b[0;34m:\u001b[0m\u001b[0;36m2\u001b[0m\u001b[0;34m,\u001b[0m\u001b[0mS2\u001b[0m\u001b[0;34m:\u001b[0m\u001b[0;36m3\u001b[0m\u001b[0;34m}\u001b[0m\u001b[0;34m,\u001b[0m\u001b[0;34m{\u001b[0m\u001b[0mBaS\u001b[0m\u001b[0;34m:\u001b[0m\u001b[0;36m2\u001b[0m\u001b[0;34m,\u001b[0m\u001b[0mS2\u001b[0m\u001b[0;34m:\u001b[0m\u001b[0;36m2\u001b[0m\u001b[0;34m}\u001b[0m\u001b[0;34m,\u001b[0m\u001b[0mtemperature\u001b[0m\u001b[0;34m=\u001b[0m\u001b[0mT\u001b[0m\u001b[0;34m,\u001b[0m\u001b[0mpressure\u001b[0m\u001b[0;34m=\u001b[0m\u001b[0mP\u001b[0m\u001b[0;34m,\u001b[0m\u001b[0mfu\u001b[0m\u001b[0;34m=\u001b[0m\u001b[0;36m8\u001b[0m\u001b[0;34m)\u001b[0m\u001b[0;34m\u001b[0m\u001b[0;34m\u001b[0m\u001b[0m\n\u001b[0m\u001b[1;32m      5\u001b[0m \u001b[0mBaS2_reaction\u001b[0m \u001b[0;34m=\u001b[0m \u001b[0mreactions\u001b[0m\u001b[0;34m.\u001b[0m\u001b[0mReaction\u001b[0m\u001b[0;34m(\u001b[0m\u001b[0;34m{\u001b[0m\u001b[0mBa\u001b[0m\u001b[0;34m:\u001b[0m\u001b[0;36m2\u001b[0m\u001b[0;34m,\u001b[0m\u001b[0mS2\u001b[0m\u001b[0;34m:\u001b[0m\u001b[0;36m3\u001b[0m\u001b[0;34m}\u001b[0m\u001b[0;34m,\u001b[0m\u001b[0;34m{\u001b[0m\u001b[0mBaS2\u001b[0m\u001b[0;34m:\u001b[0m\u001b[0;36m2\u001b[0m\u001b[0;34m,\u001b[0m\u001b[0mS2\u001b[0m\u001b[0;34m:\u001b[0m\u001b[0;36m1\u001b[0m\u001b[0;34m}\u001b[0m\u001b[0;34m,\u001b[0m\u001b[0mtemperature\u001b[0m\u001b[0;34m=\u001b[0m\u001b[0mT\u001b[0m\u001b[0;34m,\u001b[0m\u001b[0mpressure\u001b[0m\u001b[0;34m=\u001b[0m\u001b[0mP\u001b[0m\u001b[0;34m,\u001b[0m\u001b[0mfu\u001b[0m\u001b[0;34m=\u001b[0m\u001b[0;36m8\u001b[0m\u001b[0;34m)\u001b[0m\u001b[0;34m\u001b[0m\u001b[0;34m\u001b[0m\u001b[0m\n\u001b[1;32m      6\u001b[0m \u001b[0mBaS3_reaction\u001b[0m \u001b[0;34m=\u001b[0m \u001b[0mreactions\u001b[0m\u001b[0;34m.\u001b[0m\u001b[0mReaction\u001b[0m\u001b[0;34m(\u001b[0m\u001b[0;34m{\u001b[0m\u001b[0mBa\u001b[0m\u001b[0;34m:\u001b[0m\u001b[0;36m2\u001b[0m\u001b[0;34m,\u001b[0m\u001b[0mS2\u001b[0m\u001b[0;34m:\u001b[0m\u001b[0;36m3\u001b[0m\u001b[0;34m}\u001b[0m\u001b[0;34m,\u001b[0m\u001b[0;34m{\u001b[0m\u001b[0mBaS3\u001b[0m\u001b[0;34m:\u001b[0m\u001b[0;36m2\u001b[0m\u001b[0;34m}\u001b[0m\u001b[0;34m,\u001b[0m\u001b[0mtemperature\u001b[0m\u001b[0;34m=\u001b[0m\u001b[0mT\u001b[0m\u001b[0;34m,\u001b[0m\u001b[0mpressure\u001b[0m\u001b[0;34m=\u001b[0m\u001b[0mP\u001b[0m\u001b[0;34m,\u001b[0m\u001b[0mfu\u001b[0m\u001b[0;34m=\u001b[0m\u001b[0;36m8\u001b[0m\u001b[0;34m)\u001b[0m\u001b[0;34m\u001b[0m\u001b[0;34m\u001b[0m\u001b[0m\n",
      "\u001b[0;31mNameError\u001b[0m: name 'S2' is not defined"
     ]
    }
   ],
   "source": [
    "T = np.linspace(300, 1000, 100)  # K\n",
    "P = np.array(np.logspace(-2, 4, 100), ndmin=2).transpose()  # Pa\n",
    "\n",
    "BaS_reaction = reactions.Reaction({Ba:2,S2:3},{BaS:2,S2:2},temperature=T,pressure=P,fu=8)\n",
    "BaS2_reaction = reactions.Reaction({Ba:2,S2:3},{BaS2:2,S2:1},temperature=T,pressure=P,fu=8)\n",
    "BaS3_reaction = reactions.Reaction({Ba:2,S2:3},{BaS3:2},temperature=T,pressure=P,fu=8)\n",
    "\n",
    "BaS_reaction.Dmu(xc='hse06').plot_TvsP(scale_range=[-2,-1])\n",
    "BaS2_reaction.Dmu(xc='hse06').plot_TvsP()\n",
    "BaS3_reaction.Dmu(xc='hse06').plot_TvsP()\n",
    "\n",
    "\n"
   ]
  },
  {
   "cell_type": "code",
   "execution_count": null,
   "metadata": {
    "pycharm": {
     "name": "#%%\n"
    }
   },
   "outputs": [],
   "source": [
    "\n",
    "T = np.linspace(300, 1000, 100)  # K\n",
    "P = np.array(np.logspace(-2, 4, 100), ndmin=2).transpose()  # Pa\n",
    "\n",
    "BaS_system = potentials.Potentials(BaS_reaction.Dmu(xc='pbesol',T=T,P=P),BaS2_reaction.Dmu(xc='pbesol',T=T,P=P),BaS3_reaction.Dmu(xc='pbesol',T=T,P=P))\n",
    "plt = BaS_system.plot_TvsP(material_labels=[\"BaS\",\"BaS2\",\"BaS3\"],T_units=\"K\",log_scale=True)\n",
    "plt.hlines([2,5,0.1],823,863,color='red')\n",
    "plt.vlines([823,863],1E-1,5,color='red')\n",
    "plt.show()\n",
    "\n",
    "\n",
    "# Interesting: pbesol suggests BaS2 and BaS3 unstable in this range, unlike the SCAN functional. \n"
   ]
  },
  {
   "cell_type": "markdown",
   "metadata": {},
   "source": [
    "The box above shows the experimental range for Comparotto et al. The upper part of the box shows the range in which BaZrS3 was formed most successfully. Dark green is BaS, middle green BaS2, yellow BaS3."
   ]
  },
  {
   "cell_type": "code",
   "execution_count": null,
   "metadata": {
    "pycharm": {
     "name": "#%%\n"
    }
   },
   "outputs": [],
   "source": [
    "print(BaS_reaction.Dmu(T=863,P=0.1,xc='pbesol').potential)   # these are the temps and pressures significant in Wang et al.\n",
    "print(BaS2_reaction.Dmu(T=863,P=0.1,xc='pbesol').potential)\n",
    "print(BaS3_reaction.Dmu(T=863,P=0.1,xc='pbesol').potential)\n",
    "\n",
    "print(BaS_reaction.Dmu(T=863,P=2,xc='pbesol').potential)   # these are the temps and pressures significant in Wang et al.\n",
    "print(BaS2_reaction.Dmu(T=863,P=2,xc='pbesol').potential)\n",
    "print(BaS3_reaction.Dmu(T=863,P=2,xc='pbesol').potential)\n",
    "\n",
    "#print((BaS_reaction.Dmu(T=723,P=1000).potential-BaS3_reaction.Dmu(T=773,P=1000).potential) / 4)\n",
    "#print((BaS_reaction.Dmu(T=773,P=1000).potential-BaS3_reaction.Dmu(T=773,P=1000).potential) / 4)\n",
    "#print((BaS_reaction.Dmu(T=823,P=1000).potential-BaS3_reaction.Dmu(T=773,P=1000).potential) / 4)\n",
    "\n",
    "# difference reduced to 60meV at low temperatures, 15 meV still at thighter.\n",
    "\n"
   ]
  },
  {
   "cell_type": "markdown",
   "metadata": {},
   "source": [
    "At 863K, P = 0.1, BaS is more stable by 600 meV.\n",
    "\n",
    "So although at 863K, 2Pa BaS2 is the most stable, the difference is 17 meV!"
   ]
  },
  {
   "cell_type": "markdown",
   "metadata": {
    "pycharm": {
     "name": "#%% md\n"
    }
   },
   "source": [
    "This is bridging that 25meV/atom range where accessible"
   ]
  },
  {
   "cell_type": "markdown",
   "metadata": {
    "pycharm": {
     "name": "#%% md\n"
    }
   },
   "source": [
    "# Competing phases for the Zr-S system\n",
    "\n",
    "Using S8 for comparison with Scragg results:\n",
    "\n",
    "8Zr + 3S8 could form:\n",
    "- 8ZrS + 2S8\n",
    "- 8ZrS2 + S8\n",
    "- 8ZrS3"
   ]
  },
  {
   "cell_type": "code",
   "execution_count": null,
   "metadata": {
    "pycharm": {
     "name": "#%%\n"
    }
   },
   "outputs": [],
   "source": [
    "ZrS3_calc = calculations.AimsCalculation(\"../BaZrS3/raw_aims_files/binary/ZrS3_P2_1m/pbesol/aims.out\")\n",
    "ZrS3 = materials.Solid(\"ZrS3\", {\"Zr\": 1, \"S\": 3},\n",
    "                       \"../BaZrS3/phonopy_output/ZrS3_P2_1m.dat\",\n",
    "                       calculation=ZrS3_calc)\n",
    "\n",
    "ZrS_reaction = reactions.Reaction({Zr:8,S8:3},{ZrS:8,S8:2},temperature=T,pressure=P,fu=8)\n",
    "ZrS2_reaction = reactions.Reaction({Zr:8,S8:3},{ZrS2:8,S8:1},temperature=T,pressure=P,fu=8)\n",
    "ZrS3_reaction = reactions.Reaction({Zr:8,S8:3},{ZrS3:8},temperature=T,pressure=P,fu=8)\n",
    "\n",
    "ZrS_reaction.Dmu(xc='pbesol').plot_TvsP()\n",
    "ZrS2_reaction.Dmu(xc='pbesol').plot_TvsP()\n",
    "ZrS3_reaction.Dmu(xc='pbesol').plot_TvsP()\n"
   ]
  },
  {
   "cell_type": "code",
   "execution_count": null,
   "metadata": {
    "pycharm": {
     "name": "#%%\n"
    }
   },
   "outputs": [],
   "source": [
    "ZrS_system = potentials.Potentials(ZrS_reaction.Dmu(xc='pbesol'),ZrS2_reaction.Dmu(xc='pbesol'),ZrS3_reaction.Dmu(xc='pbesol'))\n",
    "plt = ZrS_system.plot_TvsP(material_labels=[\"ZrS\",\"ZrS2\",\"ZrS3\"])\n",
    "plt.hlines([2,5,0.1],823,863,color='red')\n",
    "plt.vlines([823,863],1E-1,5,color='red')\n",
    "plt.show()\n",
    "\n",
    "# Wow! quite a change here: the ZrS3 is now the lowest in energy.\n",
    "# dark green is ZrS2\n",
    "# yellow is ZrS3"
   ]
  },
  {
   "cell_type": "code",
   "execution_count": null,
   "metadata": {
    "pycharm": {
     "name": "#%%\n"
    }
   },
   "outputs": [],
   "source": [
    "print(ZrS_reaction.Dmu(T=823,P=5,xc='pbesol').potential)   # these are the temps and pressures scragg et al\n",
    "print(ZrS2_reaction.Dmu(T=823,P=5,xc='pbesol').potential)\n",
    "print(ZrS3_reaction.Dmu(T=823,P=5,xc='pbesol').potential)\n",
    "# So ZrS2 and ZrS3 very close: 70 meV. However wider thermal expansion of ZrS2?\n"
   ]
  },
  {
   "cell_type": "markdown",
   "metadata": {},
   "source": [
    "# 2BaS2 + 2ZrS2 <-> 2BaZrS3 + S2\n"
   ]
  },
  {
   "cell_type": "code",
   "execution_count": null,
   "metadata": {},
   "outputs": [],
   "source": [
    "reaction = reactions.Reaction( {BaS2: 2, ZrS2:2},{BaZrS3: 2, S2: 1},\n",
    "                                       temperature=T,\n",
    "                                   pressure=P,fu=1)\n",
    "GFE = reaction.Dmu(units=\"kJ\",xc='pbesol')\n",
    "plt=GFE.plot_TvsP(T_units='K')\n",
    "plt.hlines([2,5,0.1],823,863,color='red')\n",
    "plt.vlines([823,863],1E-1,5,color='red')\n",
    "plt.show()\n"
   ]
  },
  {
   "cell_type": "markdown",
   "metadata": {},
   "source": [
    "\n",
    "\n",
    "\n",
    "# 8BaS2 + 8ZrS2 <-> 8BaZrS3 + S8\n",
    "\n"
   ]
  },
  {
   "cell_type": "code",
   "execution_count": null,
   "metadata": {},
   "outputs": [],
   "source": [
    "reaction = reactions.Reaction( {BaS2: 8, ZrS2:8},{BaZrS3: 8, S8: 1},\n",
    "                                       temperature=T,\n",
    "                                   pressure=P,fu=1)\n",
    "GFE = reaction.Dmu(units=\"kJ\",xc='pbesol')\n",
    "plt=GFE.plot_TvsP(T_units='K')\n",
    "plt.hlines([2,5,0.1],823,863,color='red')\n",
    "plt.vlines([823,863],1E-1,5,color='red')\n",
    "plt.show()"
   ]
  },
  {
   "cell_type": "markdown",
   "metadata": {},
   "source": [
    "\n",
    "\n",
    "# BaS2 + ZrS3 <-> BaZrS3 + S2\n",
    "\n",
    "\n"
   ]
  },
  {
   "cell_type": "code",
   "execution_count": null,
   "metadata": {},
   "outputs": [],
   "source": [
    "reaction = reactions.Reaction( {BaS2: 1, ZrS3:1},{BaZrS3: 1, S2: 1},\n",
    "                                       temperature=T,\n",
    "                                   pressure=P,fu=1)\n",
    "GFE = reaction.Dmu(units=\"kJ\",xc='pbesol')\n",
    "plt=GFE.plot_TvsP(T_units='K')\n",
    "plt.hlines([2,5,0.1],823,863,color='red')\n",
    "plt.vlines([823,863],1E-1,5,color='red')\n",
    "plt.show()"
   ]
  },
  {
   "cell_type": "code",
   "execution_count": null,
   "metadata": {},
   "outputs": [],
   "source": [
    "# 2BaS3 + 2ZrS3 <-> 2BaZrS3 + 3S2\n",
    "\n",
    "reaction = reactions.Reaction( {BaS3: 2, ZrS3:2},{BaZrS3: 2, S2: 3},\n",
    "                                       temperature=T,\n",
    "                                   pressure=P,fu=1)\n",
    "GFE = reaction.Dmu(units=\"kJ\",xc='pbesol')\n",
    "plt=GFE.plot_TvsP(T_units='K')\n",
    "plt.hlines([2,5,0.1],823,863,color='red')\n",
    "plt.vlines([823,863],1E-1,5,color='red')\n",
    "plt.show()"
   ]
  },
  {
   "cell_type": "code",
   "execution_count": null,
   "metadata": {},
   "outputs": [],
   "source": [
    "# 2BaS + 2ZrS3 <-> 2BaZrS3 S2\n",
    "\n",
    "reaction = reactions.Reaction( {BaS: 2, ZrS3:2},{BaZrS3: 2, S2: 1},\n",
    "                                       temperature=T,\n",
    "                                   pressure=P,fu=1)\n",
    "GFE = reaction.Dmu(units=\"kJ\",xc='pbesol')\n",
    "plt=GFE.plot_TvsP(T_units='K')\n",
    "plt.hlines([2,5,0.1],823,863,color='red')\n",
    "plt.vlines([823,863],1E-1,5,color='red')\n",
    "plt.show()"
   ]
  },
  {
   "cell_type": "markdown",
   "metadata": {
    "pycharm": {
     "name": "#%% md\n"
    }
   },
   "source": [
    "# BaS3 + ZrS2  <->  BaZrS3 +  S2"
   ]
  },
  {
   "cell_type": "code",
   "execution_count": null,
   "metadata": {
    "pycharm": {
     "name": "#%%\n"
    }
   },
   "outputs": [],
   "source": [
    "BaZrS3_S2_reaction = reactions.Reaction( {BaS3: 1, ZrS2:1},{BaZrS3: 1, S2: 1},\n",
    "                                       temperature=T,\n",
    "                                   pressure=P,fu=1)\n",
    "GFE = BaZrS3_S2_reaction.Dmu(units=\"kJ\",xc='pbesol')\n",
    "plt=GFE.plot_TvsP(T_units='K')\n",
    "plt.hlines([2,5,0.1],823,863,color='red')\n",
    "plt.vlines([823,863],1E-1,5,color='red')\n",
    "plt.show()"
   ]
  },
  {
   "cell_type": "markdown",
   "metadata": {
    "pycharm": {
     "name": "#%% md\n"
    }
   },
   "source": [
    "# 4BaS3 + 4ZrS2 <-> 4BaZrS3 + S8"
   ]
  },
  {
   "cell_type": "code",
   "execution_count": null,
   "metadata": {
    "pycharm": {
     "name": "#%%\n"
    }
   },
   "outputs": [],
   "source": [
    "BaZrS3_S8_reaction = reactions.Reaction( {BaS3: 4, ZrS2:4},{BaZrS3: 4, S8: 1},\n",
    "                                       temperature=T,\n",
    "                                   pressure=P,fu=4)\n",
    "GFE = BaZrS3_S8_reaction.Dmu(units=\"kJ\",xc='pbesol')\n",
    "GFE.plot_TvsP()"
   ]
  },
  {
   "cell_type": "markdown",
   "metadata": {
    "pycharm": {
     "name": "#%% md\n"
    }
   },
   "source": [
    "# Experimental results\n",
    "\n",
    "- Read Scragg again: there is a particular compounds we want??\n",
    "\n",
    "- BaS and Zr targets were used to deposit amorphous Ba–Zr–S films by reactive\n",
    " co-sputtering in the presence of H2S. These precursors were then annealed in an inert atmosphere for crystallization. The optimal temperature to form BaZrS3 was found to be around 900 °C.\n",
    "\n",
    "- A related case is the work by Yu et al, (31) who fabricated Ba–Zr–S layers by pulsed laser deposition (PLD). Interestingly, even with a substrate temperature as high as 700 °C in the PLD step, the as-deposited films turned out amorphous and highly sulfur-deficient.\n",
    "\n",
    "- Wang et al. succeeded in synthesizing BaZrS3 at temperatures as low as 500\n",
    "°C by solid-state reaction. They demonstrated that an overstoichiometric\n",
    "quantity of S played crucial role in formation─specifically, a certain,\n",
    "small S excess was required for smooth phase formation at a lower\n",
    "temperature.  The addition of too little S led solely to the formation of\n",
    "the binary compounds BaS, BaS2, and ZrS2, while a too large S excess\n",
    "produced mainly BaS3 and ZrS3.\n",
    "\n",
    "- Scragg et al: In qualitative agreement with Wang et al. for a very\n",
    "different type of process, (36) the behavior seen in Figure 2a confirms that a certain, defined S excess is required for smooth phase formation at moderate temperatures when starting from elemental precursors.\n",
    "\n",
    "This previous point in conjunction with our results seems to suggest that we\n",
    " do not want BaS3 formation."
   ]
  },
  {
   "cell_type": "code",
   "execution_count": null,
   "metadata": {
    "pycharm": {
     "name": "#%%\n"
    }
   },
   "outputs": [],
   "source": []
  }
 ],
 "metadata": {
  "kernelspec": {
   "display_name": "Python 3",
   "language": "python",
   "name": "python3"
  },
  "language_info": {
   "codemirror_mode": {
    "name": "ipython",
    "version": 3
   },
   "file_extension": ".py",
   "mimetype": "text/x-python",
   "name": "python",
   "nbconvert_exporter": "python",
   "pygments_lexer": "ipython3",
   "version": "3.8.13"
  }
 },
 "nbformat": 4,
 "nbformat_minor": 1
}
