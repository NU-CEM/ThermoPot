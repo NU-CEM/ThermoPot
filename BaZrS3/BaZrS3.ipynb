{
 "cells": [
  {
   "cell_type": "code",
   "execution_count": 2,
   "outputs": [],
   "source": [
    "from thermopot import materials, calculations, reactions"
   ],
   "metadata": {
    "collapsed": false,
    "pycharm": {
     "name": "#%%\n"
    }
   }
  },
  {
   "cell_type": "code",
   "execution_count": 3,
   "outputs": [
    {
     "data": {
      "text/plain": "{'volume': 63.2552,\n 'filepath': '../BaZrS3/aims_output/BaS_pbesol_relax_outfile',\n 'energy': -235926.586148547,\n 'xc': 'pbesol',\n 'NAtoms': 2}"
     },
     "execution_count": 3,
     "metadata": {},
     "output_type": "execute_result"
    }
   ],
   "source": [
    "BaS_calc = calculations.AimsCalculation(\"../BaZrS3/aims_output/BaS_pbesol_relax_outfile\")\n",
    "vars(BaS_calc)"
   ],
   "metadata": {
    "collapsed": false,
    "pycharm": {
     "name": "#%%\n"
    }
   }
  },
  {
   "cell_type": "code",
   "execution_count": 5,
   "outputs": [
    {
     "data": {
      "text/plain": "{'name': 'BaS',\n 'stoichiometry': {'Ba': 1, 'S': 1},\n 'energies': {'pbesol': -235926.586148547},\n 'N': 2,\n 'volume': 63.2552,\n 'NAtoms': 2,\n 'fu_cell': 1.0,\n 'phonons': '/Users/mynf8/PycharmProjects/ThermoPot/thermopot/../BaZrS3/phonopy_output/BaS_Fm-3m.dat'}"
     },
     "execution_count": 5,
     "metadata": {},
     "output_type": "execute_result"
    }
   ],
   "source": [
    "BaS = materials.solid('BaS',{'Ba':1,'S':1},'../BaZrS3/phonopy_output/BaS_Fm-3m.dat',calculation=BaS_calc,)\n",
    "vars(BaS)"
   ],
   "metadata": {
    "collapsed": false,
    "pycharm": {
     "name": "#%%\n"
    }
   }
  },
  {
   "cell_type": "code",
   "execution_count": 9,
   "outputs": [
    {
     "data": {
      "text/plain": "{'reactants': {<thermopy.materials.solid at 0x7ffca0b484f0>: 1},\n 'products': {<thermopy.materials.solid at 0x7ffca0b484f0>: 1},\n 'T': 298.15,\n 'P': 100000.0}"
     },
     "execution_count": 9,
     "metadata": {},
     "output_type": "execute_result"
    }
   ],
   "source": [
    "reaction = reactions.reaction({BaS:1},{BaS:1})\n",
    "vars(reaction)"
   ],
   "metadata": {
    "collapsed": false,
    "pycharm": {
     "name": "#%%\n"
    }
   }
  },
  {
   "cell_type": "code",
   "execution_count": 10,
   "outputs": [
    {
     "data": {
      "text/plain": "0.0"
     },
     "execution_count": 10,
     "metadata": {},
     "output_type": "execute_result"
    }
   ],
   "source": [
    "reaction.DH_eV_pbesol()"
   ],
   "metadata": {
    "collapsed": false,
    "pycharm": {
     "name": "#%%\n"
    }
   }
  },
  {
   "cell_type": "code",
   "execution_count": 2,
   "outputs": [
    {
     "ename": "TypeError",
     "evalue": "can only concatenate str (not \"NoneType\") to str",
     "output_type": "error",
     "traceback": [
      "\u001B[0;31m---------------------------------------------------------------------------\u001B[0m",
      "\u001B[0;31mTypeError\u001B[0m                                 Traceback (most recent call last)",
      "Input \u001B[0;32mIn [2]\u001B[0m, in \u001B[0;36m<cell line: 1>\u001B[0;34m()\u001B[0m\n\u001B[0;32m----> 1\u001B[0m BaZrS3_perovskite\u001B[38;5;241m=\u001B[39m\u001B[43mmaterials\u001B[49m\u001B[38;5;241;43m.\u001B[39;49m\u001B[43msolid\u001B[49m\u001B[43m(\u001B[49m\u001B[43mname\u001B[49m\u001B[38;5;241;43m=\u001B[39;49m\u001B[38;5;124;43m'\u001B[39;49m\u001B[38;5;124;43mPerovskite BaZrS3\u001B[39;49m\u001B[38;5;124;43m'\u001B[39;49m\u001B[43m,\u001B[49m\n\u001B[1;32m      2\u001B[0m \u001B[43m                     \u001B[49m\u001B[43mstoichiometry\u001B[49m\u001B[38;5;241;43m=\u001B[39;49m\u001B[43m{\u001B[49m\u001B[38;5;124;43m'\u001B[39;49m\u001B[38;5;124;43mBa\u001B[39;49m\u001B[38;5;124;43m'\u001B[39;49m\u001B[43m:\u001B[49m\u001B[38;5;241;43m1\u001B[39;49m\u001B[43m,\u001B[49m\u001B[38;5;124;43m'\u001B[39;49m\u001B[38;5;124;43mZr\u001B[39;49m\u001B[38;5;124;43m'\u001B[39;49m\u001B[43m:\u001B[49m\u001B[38;5;241;43m1\u001B[39;49m\u001B[43m,\u001B[49m\u001B[38;5;124;43m'\u001B[39;49m\u001B[38;5;124;43mS\u001B[39;49m\u001B[38;5;124;43m'\u001B[39;49m\u001B[43m:\u001B[49m\u001B[38;5;241;43m3\u001B[39;49m\u001B[43m}\u001B[49m\u001B[43m,\u001B[49m\n\u001B[1;32m      3\u001B[0m \u001B[43m                     \u001B[49m\u001B[43mfu_cell\u001B[49m\u001B[38;5;241;43m=\u001B[39;49m\u001B[38;5;241;43m4\u001B[39;49m\u001B[43m,\u001B[49m\n\u001B[1;32m      4\u001B[0m \u001B[43m                     \u001B[49m\u001B[43mvolume\u001B[49m\u001B[38;5;241;43m=\u001B[39;49m\u001B[38;5;28;43;01mNone\u001B[39;49;00m\u001B[43m,\u001B[49m\n\u001B[1;32m      5\u001B[0m \u001B[43m                     \u001B[49m\u001B[43mpbesol_energy_eV\u001B[49m\u001B[38;5;241;43m=\u001B[39;49m\u001B[43m \u001B[49m\u001B[38;5;28;43;01mNone\u001B[39;49;00m\u001B[43m,\u001B[49m\n\u001B[1;32m      6\u001B[0m \u001B[43m                     \u001B[49m\u001B[43mhse06_energy_eV\u001B[49m\u001B[43m \u001B[49m\u001B[38;5;241;43m=\u001B[39;49m\u001B[43m \u001B[49m\u001B[38;5;28;43;01mNone\u001B[39;49;00m\u001B[43m,\u001B[49m\n\u001B[1;32m      7\u001B[0m \u001B[43m                     \u001B[49m\u001B[43mphonons\u001B[49m\u001B[38;5;241;43m=\u001B[39;49m\u001B[38;5;28;43;01mNone\u001B[39;49;00m\u001B[43m,\u001B[49m\n\u001B[1;32m      8\u001B[0m \u001B[43m                     \u001B[49m\u001B[43mN\u001B[49m\u001B[38;5;241;43m=\u001B[39;49m\u001B[38;5;28;43;01mNone\u001B[39;49;00m\n\u001B[1;32m      9\u001B[0m \u001B[43m                     \u001B[49m\u001B[43m)\u001B[49m\n",
      "File \u001B[0;32m~/PycharmProjects/BaZrS3-thermodynamic-model/materials.py:69\u001B[0m, in \u001B[0;36msolid.__init__\u001B[0;34m(self, name, stoichiometry, fu_cell, volume, pbesol_energy_eV, hse06_energy_eV, phonons, N)\u001B[0m\n\u001B[1;32m     67\u001B[0m \u001B[38;5;28mself\u001B[39m\u001B[38;5;241m.\u001B[39mfu_cell \u001B[38;5;241m=\u001B[39m fu_cell\n\u001B[1;32m     68\u001B[0m \u001B[38;5;28mself\u001B[39m\u001B[38;5;241m.\u001B[39mvolume \u001B[38;5;241m=\u001B[39m volume\n\u001B[0;32m---> 69\u001B[0m \u001B[38;5;28mself\u001B[39m\u001B[38;5;241m.\u001B[39mphonons \u001B[38;5;241m=\u001B[39m \u001B[43mmaterials_directory\u001B[49m\u001B[43m \u001B[49m\u001B[38;5;241;43m+\u001B[39;49m\u001B[43m \u001B[49m\u001B[43mphonons\u001B[49m\n",
      "\u001B[0;31mTypeError\u001B[0m: can only concatenate str (not \"NoneType\") to str"
     ]
    }
   ],
   "source": [
    "BaZrS3_perovskite=materials.solid(name='Perovskite BaZrS3',\n",
    "                     stoichiometry={'Ba':1,'Zr':1,'S':3},\n",
    "                     fu_cell=4,\n",
    "                     volume=None,\n",
    "                     pbesol_energy_eV= None,\n",
    "                     hse06_energy_eV = None,\n",
    "                     phonons=None,\n",
    "                     N=None\n",
    "                     )\n"
   ],
   "metadata": {
    "collapsed": false,
    "pycharm": {
     "name": "#%%\n"
    }
   }
  },
  {
   "cell_type": "code",
   "execution_count": 5,
   "outputs": [
    {
     "ename": "TypeError",
     "evalue": "can only concatenate str (not \"NoneType\") to str",
     "output_type": "error",
     "traceback": [
      "\u001B[0;31m---------------------------------------------------------------------------\u001B[0m",
      "\u001B[0;31mTypeError\u001B[0m                                 Traceback (most recent call last)",
      "Input \u001B[0;32mIn [5]\u001B[0m, in \u001B[0;36m<cell line: 3>\u001B[0;34m()\u001B[0m\n\u001B[1;32m      1\u001B[0m \u001B[38;5;66;03m#BaZrS3 = BaZrS3_perovskite\u001B[39;00m\n\u001B[0;32m----> 3\u001B[0m Ba2ZrS4_RP\u001B[38;5;241m=\u001B[39m\u001B[43mmaterials\u001B[49m\u001B[38;5;241;43m.\u001B[39;49m\u001B[43msolid\u001B[49m\u001B[43m(\u001B[49m\u001B[43mname\u001B[49m\u001B[38;5;241;43m=\u001B[39;49m\u001B[38;5;124;43m'\u001B[39;49m\u001B[38;5;124;43mRuddlesden-Popper Ba2ZrS4\u001B[39;49m\u001B[38;5;124;43m'\u001B[39;49m\u001B[43m,\u001B[49m\n\u001B[1;32m      4\u001B[0m \u001B[43m                     \u001B[49m\u001B[43mstoichiometry\u001B[49m\u001B[38;5;241;43m=\u001B[39;49m\u001B[43m{\u001B[49m\u001B[38;5;124;43m'\u001B[39;49m\u001B[38;5;124;43mBa\u001B[39;49m\u001B[38;5;124;43m'\u001B[39;49m\u001B[43m:\u001B[49m\u001B[38;5;241;43m2\u001B[39;49m\u001B[43m,\u001B[49m\u001B[38;5;124;43m'\u001B[39;49m\u001B[38;5;124;43mZr\u001B[39;49m\u001B[38;5;124;43m'\u001B[39;49m\u001B[43m:\u001B[49m\u001B[38;5;241;43m1\u001B[39;49m\u001B[43m,\u001B[49m\u001B[38;5;124;43m'\u001B[39;49m\u001B[38;5;124;43mS\u001B[39;49m\u001B[38;5;124;43m'\u001B[39;49m\u001B[43m:\u001B[49m\u001B[38;5;241;43m4\u001B[39;49m\u001B[43m}\u001B[49m\u001B[43m,\u001B[49m\n\u001B[1;32m      5\u001B[0m \u001B[43m                     \u001B[49m\u001B[43mpbesol_energy_eV\u001B[49m\u001B[38;5;241;43m=\u001B[39;49m\u001B[43m \u001B[49m\u001B[38;5;28;43;01mNone\u001B[39;49;00m\u001B[43m,\u001B[49m\n\u001B[1;32m      6\u001B[0m \u001B[43m                     \u001B[49m\u001B[43mhse06_energy_eV\u001B[49m\u001B[43m \u001B[49m\u001B[38;5;241;43m=\u001B[39;49m\u001B[43m \u001B[49m\u001B[38;5;28;43;01mNone\u001B[39;49;00m\u001B[43m,\u001B[49m\n\u001B[1;32m      7\u001B[0m \u001B[43m                     \u001B[49m\u001B[43mfu_cell\u001B[49m\u001B[38;5;241;43m=\u001B[39;49m\u001B[38;5;241;43m1\u001B[39;49m\u001B[43m,\u001B[49m\n\u001B[1;32m      8\u001B[0m \u001B[43m                     \u001B[49m\u001B[43mvolume\u001B[49m\u001B[38;5;241;43m=\u001B[39;49m\u001B[38;5;28;43;01mNone\u001B[39;49;00m\u001B[43m,\u001B[49m\n\u001B[1;32m      9\u001B[0m \u001B[43m                     \u001B[49m\u001B[43mphonons\u001B[49m\u001B[38;5;241;43m=\u001B[39;49m\u001B[38;5;28;43;01mNone\u001B[39;49;00m\u001B[43m,\u001B[49m\n\u001B[1;32m     10\u001B[0m \u001B[43m                     \u001B[49m\u001B[43mN\u001B[49m\u001B[38;5;241;43m=\u001B[39;49m\u001B[38;5;28;43;01mNone\u001B[39;49;00m\n\u001B[1;32m     11\u001B[0m \u001B[43m                     \u001B[49m\u001B[43m)\u001B[49m\n",
      "File \u001B[0;32m~/PycharmProjects/BaZrS3-thermodynamic-model/materials.py:69\u001B[0m, in \u001B[0;36msolid.__init__\u001B[0;34m(self, name, stoichiometry, fu_cell, volume, pbesol_energy_eV, hse06_energy_eV, phonons, N)\u001B[0m\n\u001B[1;32m     67\u001B[0m \u001B[38;5;28mself\u001B[39m\u001B[38;5;241m.\u001B[39mfu_cell \u001B[38;5;241m=\u001B[39m fu_cell\n\u001B[1;32m     68\u001B[0m \u001B[38;5;28mself\u001B[39m\u001B[38;5;241m.\u001B[39mvolume \u001B[38;5;241m=\u001B[39m volume\n\u001B[0;32m---> 69\u001B[0m \u001B[38;5;28mself\u001B[39m\u001B[38;5;241m.\u001B[39mphonons \u001B[38;5;241m=\u001B[39m \u001B[43mmaterials_directory\u001B[49m\u001B[43m \u001B[49m\u001B[38;5;241;43m+\u001B[39;49m\u001B[43m \u001B[49m\u001B[43mphonons\u001B[49m\n",
      "\u001B[0;31mTypeError\u001B[0m: can only concatenate str (not \"NoneType\") to str"
     ]
    }
   ],
   "source": [
    "#BaZrS3 = BaZrS3_perovskite\n",
    "\n",
    "Ba2ZrS4_RP=materials.solid(name='Ruddlesden-Popper Ba2ZrS4',\n",
    "                     stoichiometry={'Ba':2,'Zr':1,'S':4},\n",
    "                     pbesol_energy_eV= None,\n",
    "                     hse06_energy_eV = None,\n",
    "                     fu_cell=1,\n",
    "                     volume=None,\n",
    "                     phonons=None,\n",
    "                     N=None\n",
    "                     )\n"
   ],
   "metadata": {
    "collapsed": false,
    "pycharm": {
     "name": "#%%\n"
    }
   }
  },
  {
   "cell_type": "code",
   "execution_count": null,
   "outputs": [],
   "source": [
    "\n",
    "\n",
    "Ba2ZrS4 = Ba2ZrS4_RP\n",
    "\n",
    "Ba3Zr2S7_RP=solid(name='Ruddlesden-Popper Ba3Zr2S7',\n",
    "                     stoichiometry={'Ba':3,'Zr':2,'S':7},\n",
    "                     pbesol_energy_eV= None,\n",
    "                     hse06_energy_eV = None,\n",
    "                     fu_cell=None,\n",
    "                     volume=None,\n",
    "                     phonons=None,\n",
    "                     N=None\n",
    "                     )\n",
    "\n",
    "\n",
    "Ba3Zr2S7_Needle=solid(name='Needle-like Ba3Zr2S7',\n",
    "                     stoichiometry={'Ba':3,'Zr':2,'S':7},\n",
    "                     pbesol_energy_eV= None,\n",
    "                     hse06_energy_eV = None,\n",
    "                     fu_cell=None,\n",
    "                     volume=None,\n",
    "                     phonons=None,\n",
    "                     N=None\n",
    "                     )\n",
    "\n",
    "############### Elements ###############\n",
    "\n",
    "Ba = solid(name='Ba',\n",
    "           stoichiometry={'Ba':1},\n",
    "           pbesol_energy_eV=None,\n",
    "           hse06_energy_eV = None,\n",
    "           fu_cell=None,\n",
    "           volume=None,\n",
    "           phonons=None\n",
    ")\n",
    "\n",
    "Zr = solid(name='Zr',\n",
    "                stoichiometry={'Zr':1},\n",
    "                pbesol_energy_eV=None,\n",
    "                hse06_energy_eV = None,\n",
    "                fu_cell=None,\n",
    "                volume=None,\n",
    "                phonons=None\n",
    ")\n",
    "\n",
    "S = solid(name='S',\n",
    "                 stoichiometry={'S':1},\n",
    "                 pbesol_energy_eV=None,\n",
    "                 hse06_energy_eV = None,\n",
    "                 fu_cell=None,\n",
    "                 volume=None,\n",
    "                 phonons=None\n",
    ")\n",
    "\n",
    "\n",
    "############### Binary sulfides ###############\n",
    "\n",
    "BaS = solid(name='BaS',\n",
    "    stoichiometry={'Ba':1,'S':1},\n",
    "    pbesol_energy_eV=None,\n",
    "    fu_cell=1,\n",
    "    volume=None,\n",
    "    phonons=None,\n",
    "    N=None,\n",
    ")\n",
    "\n",
    "BaS2 = solid(name='BaS2',\n",
    "    stoichiometry={'Ba':1,'S':2},\n",
    "    pbesol_energy_eV=None,\n",
    "    fu_cell=2,\n",
    "    volume=None,\n",
    "    phonons=None,\n",
    "    N=None,\n",
    ")\n",
    "\n",
    "BaS3 = solid(name='BaS3',\n",
    "    stoichiometry={'Ba':1,'S':3},\n",
    "    pbesol_energy_eV=None,\n",
    "    fu_cell=2,\n",
    "    volume=None,\n",
    "    phonons=None,\n",
    "    N=None,\n",
    ")\n",
    "\n",
    "ZrS_P4_nmm = solid(name='A ZrS',        # NOTE: needs adjusting with xtal type\n",
    "    stoichiometry={'Zr':1,'S':1},\n",
    "    pbesol_energy_eV=None,\n",
    "    fu_cell=2,\n",
    "    volume=None,\n",
    "    phonons=None,\n",
    "    N=None,\n",
    ")\n",
    "\n",
    "ZrS_Fm_3m = solid(name='B ZrS',        # NOTE: needs adjusting with xtal type\n",
    "    stoichiometry={'Zr':1,'S':1},\n",
    "    pbesol_energy_eV=None,\n",
    "    fu_cell=1,\n",
    "    volume=None,\n",
    "    phonons=None,\n",
    "    N=None,\n",
    ")\n",
    "\n",
    "ZrS = None # NOTE: Needs to be set to most stable isomer\n",
    "\n",
    "\n",
    "ZrS2_P_31m = solid(name='ZrS2',\n",
    "    stoichiometry={'Zr':1,'S':2},\n",
    "    pbesol_energy_eV=None,\n",
    "    fu_cell=1,\n",
    "    volume=None,\n",
    "    phonons=None,\n",
    "    N=None,\n",
    ")\n",
    "\n",
    "ZrS3 = solid(name='ZrS3',\n",
    "    stoichiometry={'Zr':1,'S':3},\n",
    "    pbesol_energy_eV=None,\n",
    "    fu_cell=2,\n",
    "    volume=None,\n",
    "    phonons=None,\n",
    "    N=None,\n",
    ")\n",
    "\n",
    "\n",
    "############### Gases ###############\n",
    "\n",
    "\n",
    "S8=ideal_gas(\n",
    "    name='S8',\n",
    "    stoichiometry={'S':8},\n",
    "    pbesol_energy_eV=None,\n",
    "    hse06_energy_eV=None,\n",
    "    thermo_file='nist_janaf/S8.dat',\n",
    "    zpe_pbesol=None\n",
    "    N=8\n",
    ")\n",
    "\n",
    "S2=ideal_gas(\n",
    "    name='S2',\n",
    "    stoichiometry={'S':2},\n",
    "    pbesol_energy_eV=None,\n",
    "    hse06_energy_eV=None,\n",
    "    thermo_file='nist_janaf/S2.dat',\n",
    "    zpe_pbesol=None,\n",
    "    N=2\n",
    ")\n",
    "\n",
    "\n",
    "S_model_S8ref = sulfur_model('S vapours',S8.pbesol_energy_eV, S8.hse06_energy_eV,'sulfur/mu_pbe0_scaled_S8ref.csv')\n",
    "\n",
    "S_model = sulfur_model('S vapours',S2.pbesol_energy_eV, S2.hse06_energy_eV,'sulfur/mu_pbe0_scaled_S2ref.csv',N_ref=2)\n",
    "\n",
    "S = S_model"
   ],
   "metadata": {
    "collapsed": false,
    "pycharm": {
     "name": "#%%\n"
    }
   }
  }
 ],
 "metadata": {
  "kernelspec": {
   "display_name": "Python 3",
   "language": "python",
   "name": "python3"
  },
  "language_info": {
   "codemirror_mode": {
    "name": "ipython",
    "version": 2
   },
   "file_extension": ".py",
   "mimetype": "text/x-python",
   "name": "python",
   "nbconvert_exporter": "python",
   "pygments_lexer": "ipython2",
   "version": "2.7.6"
  }
 },
 "nbformat": 4,
 "nbformat_minor": 0
}